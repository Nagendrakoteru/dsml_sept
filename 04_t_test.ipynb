{
  "nbformat": 4,
  "nbformat_minor": 0,
  "metadata": {
    "colab": {
      "provenance": [],
      "include_colab_link": true
    },
    "kernelspec": {
      "name": "python3",
      "display_name": "Python 3"
    },
    "language_info": {
      "name": "python"
    }
  },
  "cells": [
    {
      "cell_type": "markdown",
      "metadata": {
        "id": "view-in-github",
        "colab_type": "text"
      },
      "source": [
        "<a href=\"https://colab.research.google.com/github/Nagendrakoteru/dsml_sept/blob/main/04_t_test.ipynb\" target=\"_parent\"><img src=\"https://colab.research.google.com/assets/colab-badge.svg\" alt=\"Open In Colab\"/></a>"
      ]
    },
    {
      "cell_type": "markdown",
      "source": [
        "<table align=\"center\" width=\"100%\">\n",
        "    <tr>\n",
        "        <td width=\"35%\">\n",
        "            <img src=\"https://www.investopedia.com/thmb/yc7LDieTkD3dl9GYFmvMsNHNfy0=/1500x0/filters:no_upscale():max_bytes(150000):strip_icc()/t-test_final2-d26bbb129cc441c192ccf8e784ae06a4.png\">\n",
        "        </td>\n",
        "        <td>\n",
        "            <div align=\"center\">\n",
        "                <font color=\"#7F0542\" size=\"6\">\n",
        "                    <b>T - test</b>\n",
        "                </font>\n",
        "            </div>\n",
        "        </td>\n",
        "    </tr>\n",
        "</table>"
      ],
      "metadata": {
        "id": "H3WBdK1S4a2A"
      }
    },
    {
      "cell_type": "markdown",
      "source": [
        "## <font color='blue'>**Content**</font>\n",
        "\n",
        "1. Lecture Agenda\n",
        "2. Recap Framework and Z test\n",
        "3. T-Test using 1 sample\n",
        "  - Quiz 1\n",
        "  - Quiz 2\n",
        "4. T-Test using 2 samples\n",
        "  - Cricket Example\n",
        "\n",
        "  - Drug Recovery Time Ex\n",
        "  - Aerofit Ex\n",
        "5. Paired T-Test\n",
        "  - Quiz 3\n",
        "  - Quiz 4\n",
        "\n"
      ],
      "metadata": {
        "id": "e7VJdj4aATHE"
      }
    },
    {
      "cell_type": "markdown",
      "source": [
        "## <font color='blue'>Lecture Agenda</font>\n",
        "\n",
        "Today we will introduce and work on **T Test** in Hypothesis Testing.\n",
        "\n",
        "It is very important and will be used a lot, even during ML lectures.\n",
        "\n",
        "We will follow the following flow:\n",
        "1. Recap framework\n",
        "2. Recap Z Test\n",
        "3. One Sample T-Test\n",
        "4. Two Sample T-Test\n",
        "5. Paired T-Test"
      ],
      "metadata": {
        "id": "8Ilza9w_Vnr5"
      }
    },
    {
      "cell_type": "markdown",
      "source": [
        "## <font color='blue'>Recap Framework and Z Test [15 mins]</font>"
      ],
      "metadata": {
        "id": "euR6heIMpv4N"
      }
    },
    {
      "cell_type": "markdown",
      "source": [
        "> <font color='red'>**Note:**</font>\n",
        "\n",
        "- Recall each step one at a time, simultaneously with code.\n",
        "- Engage the learners, as they've already studied this.\n"
      ],
      "metadata": {
        "id": "yRGd7_yUqYf9"
      }
    },
    {
      "cell_type": "code",
      "execution_count": null,
      "metadata": {
        "id": "pz_QKECNVjtR"
      },
      "outputs": [],
      "source": [
        "import numpy as np\n",
        "import pandas as pd\n",
        "import seaborn as sns\n",
        "import matplotlib.pyplot as plt"
      ]
    },
    {
      "cell_type": "markdown",
      "source": [
        "<font color='purple'>Let's recall our conceptual learnings with the help of a problem, that was a part of assessments in the last lecture.</font>\n",
        "\n",
        "\n",
        "```\n",
        "A french cake shop claims that the average number of pastries they can produce in a day exceeds 500.\n",
        "The average number of pastries produced per day over a 70 day period was found to be 530.\n",
        "Assume that the population standard deviation for the pastries produced per day is 125.\n",
        "\n",
        "Test the claim using a z-test with the critical z-value = 1.64 at the alpha (significance level) = 0.05, and state your interpretation.\n",
        "```"
      ],
      "metadata": {
        "id": "ijDWaYC2pPxL"
      }
    },
    {
      "cell_type": "markdown",
      "source": [
        "##### <font color='green'>**STEP 1:**</font>\n",
        "\n",
        "> **What should be the null and alternate hypothesis?**\n",
        "\n",
        "- Null Hypothesis ($H_0$): $μ = 500$\n",
        "- Alternative Hypothesis ($H_a$): $μ > 500$\n",
        "\n",
        "Some people may also write the null hypothesis as: $μ <= 500$\n",
        "- But this would be wrong, due to a small technical issue\n",
        "- Essentially by doing so, we're saying that there is a distribution whose mean is `less than or equal to 500`. You won't be able to do anything with this information.\n",
        "- Clearly, that would be wrong.\n",
        "- Rather, if we say that it is specifically `μ = 500`, then that works.\n",
        "\n",
        "Also, note that the burden of proof lies on the Alternate hypothesis."
      ],
      "metadata": {
        "id": "QdAWZJWtqv1A"
      }
    },
    {
      "cell_type": "markdown",
      "source": [
        "##### <font color='green'>**STEP 2:**</font>\n",
        "\n",
        "> **Choosing the right test statistic and its distribution.**\n",
        "\n",
        "- We know that for 70 days, the average was 530.\n",
        "- If this was the sample mean, under the assumption of the Null hypothesis\n",
        "\n",
        "> **What would be the std dev for this sample?**\n",
        "\n",
        "$σ_m = \\frac{125}{\\sqrt{70}}$\n",
        "\n",
        "assuming the population mean to be 500 (as per our null hypothesis)\n",
        "\n",
        "<br>\n",
        "\n",
        "Also, for test statistic, we will choose the Z score."
      ],
      "metadata": {
        "id": "7hltTELEsA7U"
      }
    },
    {
      "cell_type": "markdown",
      "source": [
        "##### <font color='green'>**STEP 3:**</font>\n",
        "\n",
        "> **Left side or Right side or Two-tailed?**\n",
        "\n",
        "This can be answered by noticing the alternate hypothesis.\n",
        "\n",
        "Since it's asking to check for the right side (μ > 500), we will perform **Right Tailed Test**."
      ],
      "metadata": {
        "id": "Vbk91NLts_i5"
      }
    },
    {
      "cell_type": "markdown",
      "source": [
        "##### <font color='green'>**STEP 4:**</font>\n",
        "\n",
        "**Calculating P-value**\n",
        "\n",
        "Let's calculate the z-score for `x = 530`\n",
        "\n",
        "- $z = \\frac{530 - 500}{\\frac{125}{\\sqrt{70}}}$"
      ],
      "metadata": {
        "id": "5u09mqsOxgLb"
      }
    },
    {
      "cell_type": "code",
      "source": [
        "z_stat = (530 - 500) / (125/np.sqrt(70))\n",
        "z_stat"
      ],
      "metadata": {
        "colab": {
          "base_uri": "https://localhost:8080/"
        },
        "id": "YV2lPM26x0M5",
        "outputId": "46699247-81c1-4073-d7f4-34aa5ad37a78"
      },
      "execution_count": null,
      "outputs": [
        {
          "output_type": "execute_result",
          "data": {
            "text/plain": [
              "2.007984063681781"
            ]
          },
          "metadata": {},
          "execution_count": 2
        }
      ]
    },
    {
      "cell_type": "code",
      "source": [
        "from scipy.stats import norm\n",
        "\n",
        "pvalue = 1 - norm.cdf(z_stat)\n",
        "pvalue"
      ],
      "metadata": {
        "colab": {
          "base_uri": "https://localhost:8080/"
        },
        "id": "nKZ12B0JyC9n",
        "outputId": "622d7e99-3ef3-4894-a5f7-5069ee5435dc"
      },
      "execution_count": null,
      "outputs": [
        {
          "output_type": "execute_result",
          "data": {
            "text/plain": [
              "0.022322492581293485"
            ]
          },
          "metadata": {},
          "execution_count": 3
        }
      ]
    },
    {
      "cell_type": "markdown",
      "source": [
        "##### <font color='green'>**STEP 5:**</font>\n",
        "\n",
        "**Compare with significance level**"
      ],
      "metadata": {
        "id": "sFM2_aE0yKtl"
      }
    },
    {
      "cell_type": "code",
      "source": [
        "alpha = 0.05\n",
        "\n",
        "if pvalue < alpha:\n",
        "  print('Reject H0')\n",
        "else:\n",
        "  print ('Fail to Reject H0')"
      ],
      "metadata": {
        "colab": {
          "base_uri": "https://localhost:8080/"
        },
        "id": "W2Y7goYLyN9W",
        "outputId": "2a0579d7-8a32-4336-a07d-c6bb8aa8041b"
      },
      "execution_count": null,
      "outputs": [
        {
          "output_type": "stream",
          "name": "stdout",
          "text": [
            "Reject H0\n"
          ]
        }
      ]
    },
    {
      "cell_type": "markdown",
      "source": [
        "Therefore, we say that the average number of pastries that the bakery can produce in a day exceeds 500."
      ],
      "metadata": {
        "id": "hkcIIgSbyeGZ"
      }
    },
    {
      "cell_type": "markdown",
      "source": [
        "Let's also find\n",
        "\n",
        "#### <font color='purple'>Critical Point</font>\n",
        "\n",
        "First, find the corresponding z-score for 95% confidence\n",
        "\n",
        "This is also given in the question."
      ],
      "metadata": {
        "id": "CoHQ4SjhzE1v"
      }
    },
    {
      "cell_type": "code",
      "source": [
        "z = norm.ppf(0.95)\n",
        "z"
      ],
      "metadata": {
        "colab": {
          "base_uri": "https://localhost:8080/"
        },
        "id": "aHx3S6nWzI2_",
        "outputId": "ffc2ef5b-c380-4251-f000-08c744faaf09"
      },
      "execution_count": null,
      "outputs": [
        {
          "output_type": "execute_result",
          "data": {
            "text/plain": [
              "1.6448536269514722"
            ]
          },
          "metadata": {},
          "execution_count": 5
        }
      ]
    },
    {
      "cell_type": "markdown",
      "source": [
        "Since, $z = \\frac{x - μ_m}{σ_m}$\n",
        "\n",
        "- $x = z*σ_m + μ_m = 1.64 * \\frac{125}{\\sqrt{70}} + 500$"
      ],
      "metadata": {
        "id": "ibb0lz-HzdN1"
      }
    },
    {
      "cell_type": "code",
      "source": [
        "x = 500 + (z*(125/np.sqrt(70)))\n",
        "x"
      ],
      "metadata": {
        "colab": {
          "base_uri": "https://localhost:8080/"
        },
        "id": "4RBMl514zNgF",
        "outputId": "888c03b1-0764-42b6-e42c-d8c82d032a40"
      },
      "execution_count": null,
      "outputs": [
        {
          "output_type": "execute_result",
          "data": {
            "text/plain": [
              "524.574701413748"
            ]
          },
          "metadata": {},
          "execution_count": 6
        }
      ]
    },
    {
      "cell_type": "markdown",
      "source": [
        "This means that if the bakery produces a daily average of at least 524.57 pastries for 70 days, we will reject the null hypothesis, and accept their claim of producing $> 500$ pastries every day, with a 95% confidence."
      ],
      "metadata": {
        "id": "6uC5UfSw0Hck"
      }
    },
    {
      "cell_type": "markdown",
      "source": [
        "![image.png](data:image/png;base64,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)"
      ],
      "metadata": {
        "id": "cZ4_330r1eOc"
      }
    },
    {
      "cell_type": "markdown",
      "source": [
        "> <font color='purple'>**What will be the p-value when observed sales average value is 540?**</font>"
      ],
      "metadata": {
        "id": "MKA2FyyC170e"
      }
    },
    {
      "cell_type": "code",
      "source": [
        "z = (540 - 500) / (125/np.sqrt(70))\n",
        "1 - norm.cdf(z)"
      ],
      "metadata": {
        "colab": {
          "base_uri": "https://localhost:8080/"
        },
        "id": "wws_7Hio2Ic7",
        "outputId": "ec23f179-1471-4f05-e0af-b5c62db70531"
      },
      "execution_count": null,
      "outputs": [
        {
          "output_type": "execute_result",
          "data": {
            "text/plain": [
              "0.0037107735265998754"
            ]
          },
          "metadata": {},
          "execution_count": 7
        }
      ]
    },
    {
      "cell_type": "markdown",
      "source": [
        "---\n",
        "\n",
        "## <font color='blue'>One sample T-test [15 mins]</font>"
      ],
      "metadata": {
        "id": "SRpBNeIq2XOz"
      }
    },
    {
      "cell_type": "markdown",
      "source": [
        "### <font color='purple'>**Motivation:**</font>\n",
        "\n",
        "<font color='purple'>**Let's say you are a Research Scientist working on a new cognitive enhancement pill**</font>\n",
        "\n",
        "- The goal is to develop a pill that can significantly improve IQ scores in individuals.\n",
        "\n",
        "- The researchers believe that the new pill will lead to a significant increase in average IQ scores for the population.\n",
        "\n",
        "\n",
        "<Br>\n",
        "\n",
        "### <font color='purple'>Use Case: Improve IQ with Pill</font>\n",
        "\n",
        "Suppose that the average IQ of the population is known to be 100\n",
        "\n",
        "A researcher claims that his pill will improve IQ\n",
        "\n",
        "> <font color='purple'>**What is the first thing that you will do?**</font>\n",
        "\n",
        "Collect data/evidence, and then try to test if his hypothesis is correct."
      ],
      "metadata": {
        "id": "Umed93pbJq-P"
      }
    },
    {
      "cell_type": "code",
      "source": [
        "# The pill is given to a few people and their IQ is tested with following results:\n",
        "iq_scores = [110, 105, 98, 102, 99, 104, 115, 95]"
      ],
      "metadata": {
        "id": "uhsaU9KJKCuO"
      },
      "execution_count": null,
      "outputs": []
    },
    {
      "cell_type": "markdown",
      "source": [
        "\n",
        "\n",
        "<font color='purple'>**Testing the Pill's Effectiveness:**</font>\n",
        "\n",
        "**Case 1:** The new pill may increase the average IQ scores.\n",
        "\n",
        "- By enhancing cognitive functions, individuals taking the pill may show improved performance in IQ tests.\n",
        "\n",
        "**Case 2:** The new pill may have no significant effect on IQ scores.\n",
        "\n",
        "- The researchers need to verify whether the pill is effective or not before widespread use.\n",
        "\n",
        "> <font color='purple'>**What are the null and alternate hypothesis?**</font>\n",
        "\n",
        "- $H_0: μ = 100$ (pill has no effect)\n",
        "- $H_a: μ > 100$ (pill has positive effect)\n",
        "\n",
        "<br>\n",
        "<br>\n",
        "\n",
        "<font color='purple'>**Testing the Hypothesis:**</font>\n",
        "\n",
        "- Researchers need a way to test whether the new pill has a significant impact on IQ scores.\n",
        "- This involves comparing the average IQ scores of a group taking the pill with the population average.\n",
        "\n"
      ],
      "metadata": {
        "id": "VEfWKjiDA5L_"
      }
    },
    {
      "cell_type": "markdown",
      "source": [
        "Let's see the mean IQ of this sample"
      ],
      "metadata": {
        "id": "ss-IFmswKCud"
      }
    },
    {
      "cell_type": "code",
      "source": [
        "np.mean(iq_scores)"
      ],
      "metadata": {
        "colab": {
          "base_uri": "https://localhost:8080/"
        },
        "outputId": "71f6ff07-0ec4-4791-a4ba-b2f1cf7b7af6",
        "id": "4czXYAVzKCue"
      },
      "execution_count": null,
      "outputs": [
        {
          "output_type": "execute_result",
          "data": {
            "text/plain": [
              "103.5"
            ]
          },
          "metadata": {},
          "execution_count": 9
        }
      ]
    },
    {
      "cell_type": "markdown",
      "source": [
        "> <font color='purple'>The mean seems to be $> 100$, can we directly say that okay this pill is effective?</font>\n",
        "\n",
        "No. We'd have to conduct a hypothesis test and then we can validate this claim with confidence.\n",
        "\n",
        "<br>\n",
        "\n",
        "> <font color=\"purple\">How should we proceed? Can we apply Z Test here?</font>\n",
        "\n",
        "**Scenario Complexity:**\n",
        "- Note that here, we have no clue about the value of population std deviation.\n",
        "- Hence, we would not be able to calcluate the Z-test statistic.\n",
        "- In fact, in most real world scenarios, the **population standard deviation is often unknown.**\n",
        "\n",
        "**Sample Size:**\n",
        "- Also note that the sample size here is very small (< 30).\n",
        "- We do not have enough data.\n",
        "\n",
        "\n",
        "\n",
        "\n"
      ],
      "metadata": {
        "id": "IF9wcfC4NK82"
      }
    },
    {
      "cell_type": "markdown",
      "source": [
        "> <font color='purple'>**Can we plot the distribution?**</font>\n",
        "\n",
        "- No.\n",
        "- We know that the sample mean is 100\n",
        "- But we do not know the sample standard deviation (std error) or population standard deviation.\n",
        "\n",
        "<br>\n",
        "\n",
        "Moreover, if we had that, we would've easily computed the z-score corresponding to $x = 103.5$ and then the pvalue\n",
        "\n",
        "But this is not possible here. We **cannot use z-score / z-statistic**"
      ],
      "metadata": {
        "id": "a9zU9Uc0z9CT"
      }
    },
    {
      "cell_type": "markdown",
      "source": [
        "> <font color='purple'>**What to do now?**</font>\n",
        "\n",
        "We do not have a population standard deviation, so we cannot evaluate it for the sample, as per CLT.\n",
        "\n",
        "However, we are given the sample, so we can compute the **sample standard deviation ($s$).**\n",
        "\n",
        "When we do that, we will get: $\\frac{x - μ}{\\frac{s}{\\sqrt{n}}}$\n",
        "\n",
        "- $n$: sample size\n",
        "- $s$: sample standard deviation\n",
        "\n",
        "This is **NOT the z-score anymore**, in fact, it is known as the **T-Statistic** that yields **T Distribution**\n",
        "\n",
        "This modified framework is called **T Test**.\n",
        "\n",
        "\n",
        "When dealing with small sample sizes, the use of the t-test is more appropriate as it **accounts for the increased uncertainty associated with smaller samples.**"
      ],
      "metadata": {
        "id": "BdPPBZWQ1gEB"
      }
    },
    {
      "cell_type": "markdown",
      "source": [
        "\n",
        "\n",
        "Depending on the situation, there are 3 variations of T-tests:-\n",
        "- With 1 sample\n",
        " - Here, You have a bunch of samples that you are comparing with a single number\n",
        "- With 2 samples where samples are independent\n",
        "- With 2 samples where samples are dependent"
      ],
      "metadata": {
        "id": "sUk0Wv1GM88k"
      }
    },
    {
      "cell_type": "markdown",
      "source": [
        "In our problem, we are given only\n",
        "- Population mean: 100 (a single number)\n",
        "- One set of sample IQ values: `[110, 105, 98, 102, 99, 104, 115, 95]`\n",
        "\n",
        "Hence, it is a case of **One Sample T Test**\n",
        "\n",
        "<br>\n",
        "\n",
        "We would look at the other cases as well in today's lecture."
      ],
      "metadata": {
        "id": "-ZzHYlb1PQrr"
      }
    },
    {
      "cell_type": "markdown",
      "source": [
        "In this framework of T-test, we no longer need to use `.cdf(), .pdf(), etc`.\n",
        "\n",
        "We will use a one-line code, where we directly use the existing function from scipy.\n",
        "\n",
        "We need to call it: `ttest_1samp(sample, 100)`\n",
        "- Here, 100 is the number we want to compare, as per the null hypothesis.\n",
        "\n",
        "As a result, it will give us:\n",
        "- T statistic value\n",
        "- p-value"
      ],
      "metadata": {
        "id": "BUevmIF83ll8"
      }
    },
    {
      "cell_type": "code",
      "source": [
        "from scipy.stats import ttest_1samp"
      ],
      "metadata": {
        "id": "Wc_HhYEj4DFz"
      },
      "execution_count": null,
      "outputs": []
    },
    {
      "cell_type": "code",
      "source": [
        "t_stat, pvalue = ttest_1samp(iq_scores, 100) # alternative=\"two-sided\"\n",
        "t_stat, pvalue"
      ],
      "metadata": {
        "colab": {
          "base_uri": "https://localhost:8080/"
        },
        "id": "8ZynuxmE4HpR",
        "outputId": "a8ee9c94-c143-4701-a564-1713af127fc3"
      },
      "execution_count": null,
      "outputs": [
        {
          "output_type": "execute_result",
          "data": {
            "text/plain": [
              "(1.5071573172061195, 0.1754994493585011)"
            ]
          },
          "metadata": {},
          "execution_count": 3
        }
      ]
    },
    {
      "cell_type": "markdown",
      "source": [
        "Before making any such claim, we'd want to be 99% confident ($α = 0.01$)\n",
        "\n"
      ],
      "metadata": {
        "id": "tS-25zT3cOhe"
      }
    },
    {
      "cell_type": "code",
      "source": [
        "alpha = 0.01 # 99% confidence\n",
        "\n",
        "if pvalue < alpha:\n",
        "  print('Reject H0; Pill has effect')\n",
        "else:\n",
        "  print ('Fail to Reject H0; Pill has NO effect')"
      ],
      "metadata": {
        "colab": {
          "base_uri": "https://localhost:8080/"
        },
        "id": "LQX4G60N5KlR",
        "outputId": "94f61be6-3224-48ba-ed0b-458a80ac2bed"
      },
      "execution_count": null,
      "outputs": [
        {
          "output_type": "stream",
          "name": "stdout",
          "text": [
            "Fail to Reject H0; Pill has NO effect\n"
          ]
        }
      ]
    },
    {
      "cell_type": "markdown",
      "source": [
        "# Quiz-1 [3 mins]\n",
        "\n",
        "```\n",
        "What is the formula for the t-statistic in a one-sample t-test?\n",
        "```\n",
        "\n",
        "- [ ] (Sample Mean - Population Mean) / (Sample Standard Deviation)\n",
        "- [x] (Sample Mean - Population Mean) / (Sample Standard Error)\n",
        "-[ ] (Sample Mean - Population Mean) / (Sample Size)\n",
        "-[ ] (Sample Mean - Population Mean) / (Sample Variance)"
      ],
      "metadata": {
        "id": "v_QtpZ6qDVFT"
      }
    },
    {
      "cell_type": "markdown",
      "source": [
        "# Quiz-2 [3 mins]\n",
        "\n",
        "```\n",
        "What is the null hypothesis in a one-sample t-test?\n",
        "```\n",
        "**Options:**\n",
        "\n",
        "- [ ] The population means of two groups are equal.\n",
        "- [x] The population mean is equal to a specified value.\n",
        "- [ ] The population variances of the two groups are equal.\n",
        "- [ ] The sample mean is equal to a specified value."
      ],
      "metadata": {
        "id": "CzjhxmrnBPJT"
      }
    },
    {
      "cell_type": "markdown",
      "source": [
        "**Explanation:**\n",
        "\n",
        "Explanation:\n",
        "In a one-sample t-test, the null hypothesis ($H_0$) typically states that the population mean is equal to a specified value.\n",
        "\n",
        "This means that you're testing whether the sample data provides enough evidence to support the claim that the population mean is different from or equal to a specific value.\n",
        "\n",
        "For example, if you're testing whether the mean weight of a certain population is 150 pounds, the null hypothesis would be that the population mean weight is equal to 150 pounds: $H_0$: $μ=150$\n",
        "\n",
        "Therefore, the correct choice is that the null hypothesis in a one-sample t-test is that the population mean is equal to a specified value."
      ],
      "metadata": {
        "id": "Joe83_3I0Oiv"
      }
    },
    {
      "cell_type": "markdown",
      "source": [
        "---\n",
        "\n",
        "## <font color='blue'>Two sample T-test</font> [15 mins]\n",
        "\n",
        "<font color='purple'>Suppose we have IQ data samples across 2 schools, and we want to compare and see which school's students have better IQ</font>\n",
        "- Use α = 0.05\n",
        "\n",
        "<br>\n"
      ],
      "metadata": {
        "id": "m5LAHeY85hj2"
      }
    },
    {
      "cell_type": "code",
      "source": [
        "!wget --no-check-certificate https://drive.google.com/uc?id=1qSiKRk_9fNmTWsEDWqOygwcGrU-XuINw -O iq_two_schools.csv"
      ],
      "metadata": {
        "colab": {
          "base_uri": "https://localhost:8080/"
        },
        "id": "aJulHl9IjR2D",
        "outputId": "2af09e89-606f-4ab0-f155-517c4a141927"
      },
      "execution_count": null,
      "outputs": [
        {
          "output_type": "stream",
          "name": "stdout",
          "text": [
            "--2024-01-17 13:18:48--  https://drive.google.com/uc?id=1qSiKRk_9fNmTWsEDWqOygwcGrU-XuINw\n",
            "Resolving drive.google.com (drive.google.com)... 172.253.62.139, 172.253.62.138, 172.253.62.102, ...\n",
            "Connecting to drive.google.com (drive.google.com)|172.253.62.139|:443... connected.\n",
            "HTTP request sent, awaiting response... 303 See Other\n",
            "Location: https://drive.usercontent.google.com/download?id=1qSiKRk_9fNmTWsEDWqOygwcGrU-XuINw [following]\n",
            "--2024-01-17 13:18:48--  https://drive.usercontent.google.com/download?id=1qSiKRk_9fNmTWsEDWqOygwcGrU-XuINw\n",
            "Resolving drive.usercontent.google.com (drive.usercontent.google.com)... 142.251.167.132, 2607:f8b0:4004:c1d::84\n",
            "Connecting to drive.usercontent.google.com (drive.usercontent.google.com)|142.251.167.132|:443... connected.\n",
            "HTTP request sent, awaiting response... 200 OK\n",
            "Length: 639 [application/octet-stream]\n",
            "Saving to: ‘iq_two_schools.csv’\n",
            "\n",
            "iq_two_schools.csv  100%[===================>]     639  --.-KB/s    in 0s      \n",
            "\n",
            "2024-01-17 13:18:49 (4.30 MB/s) - ‘iq_two_schools.csv’ saved [639/639]\n",
            "\n"
          ]
        }
      ]
    },
    {
      "cell_type": "code",
      "source": [
        "import pandas as pd\n",
        "\n",
        "df_iq = pd.read_csv('/content/iq_two_schools.csv')\n",
        "df_iq.head()"
      ],
      "metadata": {
        "colab": {
          "base_uri": "https://localhost:8080/",
          "height": 206
        },
        "id": "6RwG9tWCAPC9",
        "outputId": "46353dd7-d778-46ce-b318-3b14ae9df2d8"
      },
      "execution_count": null,
      "outputs": [
        {
          "output_type": "execute_result",
          "data": {
            "text/plain": [
              "     School   iq\n",
              "0  school_1   91\n",
              "1  school_1   95\n",
              "2  school_1  110\n",
              "3  school_1  112\n",
              "4  school_1  115"
            ],
            "text/html": [
              "\n",
              "  <div id=\"df-9bd4caac-9f3b-4c10-a649-3d4f01270a6d\" class=\"colab-df-container\">\n",
              "    <div>\n",
              "<style scoped>\n",
              "    .dataframe tbody tr th:only-of-type {\n",
              "        vertical-align: middle;\n",
              "    }\n",
              "\n",
              "    .dataframe tbody tr th {\n",
              "        vertical-align: top;\n",
              "    }\n",
              "\n",
              "    .dataframe thead th {\n",
              "        text-align: right;\n",
              "    }\n",
              "</style>\n",
              "<table border=\"1\" class=\"dataframe\">\n",
              "  <thead>\n",
              "    <tr style=\"text-align: right;\">\n",
              "      <th></th>\n",
              "      <th>School</th>\n",
              "      <th>iq</th>\n",
              "    </tr>\n",
              "  </thead>\n",
              "  <tbody>\n",
              "    <tr>\n",
              "      <th>0</th>\n",
              "      <td>school_1</td>\n",
              "      <td>91</td>\n",
              "    </tr>\n",
              "    <tr>\n",
              "      <th>1</th>\n",
              "      <td>school_1</td>\n",
              "      <td>95</td>\n",
              "    </tr>\n",
              "    <tr>\n",
              "      <th>2</th>\n",
              "      <td>school_1</td>\n",
              "      <td>110</td>\n",
              "    </tr>\n",
              "    <tr>\n",
              "      <th>3</th>\n",
              "      <td>school_1</td>\n",
              "      <td>112</td>\n",
              "    </tr>\n",
              "    <tr>\n",
              "      <th>4</th>\n",
              "      <td>school_1</td>\n",
              "      <td>115</td>\n",
              "    </tr>\n",
              "  </tbody>\n",
              "</table>\n",
              "</div>\n",
              "    <div class=\"colab-df-buttons\">\n",
              "\n",
              "  <div class=\"colab-df-container\">\n",
              "    <button class=\"colab-df-convert\" onclick=\"convertToInteractive('df-9bd4caac-9f3b-4c10-a649-3d4f01270a6d')\"\n",
              "            title=\"Convert this dataframe to an interactive table.\"\n",
              "            style=\"display:none;\">\n",
              "\n",
              "  <svg xmlns=\"http://www.w3.org/2000/svg\" height=\"24px\" viewBox=\"0 -960 960 960\">\n",
              "    <path d=\"M120-120v-720h720v720H120Zm60-500h600v-160H180v160Zm220 220h160v-160H400v160Zm0 220h160v-160H400v160ZM180-400h160v-160H180v160Zm440 0h160v-160H620v160ZM180-180h160v-160H180v160Zm440 0h160v-160H620v160Z\"/>\n",
              "  </svg>\n",
              "    </button>\n",
              "\n",
              "  <style>\n",
              "    .colab-df-container {\n",
              "      display:flex;\n",
              "      gap: 12px;\n",
              "    }\n",
              "\n",
              "    .colab-df-convert {\n",
              "      background-color: #E8F0FE;\n",
              "      border: none;\n",
              "      border-radius: 50%;\n",
              "      cursor: pointer;\n",
              "      display: none;\n",
              "      fill: #1967D2;\n",
              "      height: 32px;\n",
              "      padding: 0 0 0 0;\n",
              "      width: 32px;\n",
              "    }\n",
              "\n",
              "    .colab-df-convert:hover {\n",
              "      background-color: #E2EBFA;\n",
              "      box-shadow: 0px 1px 2px rgba(60, 64, 67, 0.3), 0px 1px 3px 1px rgba(60, 64, 67, 0.15);\n",
              "      fill: #174EA6;\n",
              "    }\n",
              "\n",
              "    .colab-df-buttons div {\n",
              "      margin-bottom: 4px;\n",
              "    }\n",
              "\n",
              "    [theme=dark] .colab-df-convert {\n",
              "      background-color: #3B4455;\n",
              "      fill: #D2E3FC;\n",
              "    }\n",
              "\n",
              "    [theme=dark] .colab-df-convert:hover {\n",
              "      background-color: #434B5C;\n",
              "      box-shadow: 0px 1px 3px 1px rgba(0, 0, 0, 0.15);\n",
              "      filter: drop-shadow(0px 1px 2px rgba(0, 0, 0, 0.3));\n",
              "      fill: #FFFFFF;\n",
              "    }\n",
              "  </style>\n",
              "\n",
              "    <script>\n",
              "      const buttonEl =\n",
              "        document.querySelector('#df-9bd4caac-9f3b-4c10-a649-3d4f01270a6d button.colab-df-convert');\n",
              "      buttonEl.style.display =\n",
              "        google.colab.kernel.accessAllowed ? 'block' : 'none';\n",
              "\n",
              "      async function convertToInteractive(key) {\n",
              "        const element = document.querySelector('#df-9bd4caac-9f3b-4c10-a649-3d4f01270a6d');\n",
              "        const dataTable =\n",
              "          await google.colab.kernel.invokeFunction('convertToInteractive',\n",
              "                                                    [key], {});\n",
              "        if (!dataTable) return;\n",
              "\n",
              "        const docLinkHtml = 'Like what you see? Visit the ' +\n",
              "          '<a target=\"_blank\" href=https://colab.research.google.com/notebooks/data_table.ipynb>data table notebook</a>'\n",
              "          + ' to learn more about interactive tables.';\n",
              "        element.innerHTML = '';\n",
              "        dataTable['output_type'] = 'display_data';\n",
              "        await google.colab.output.renderOutput(dataTable, element);\n",
              "        const docLink = document.createElement('div');\n",
              "        docLink.innerHTML = docLinkHtml;\n",
              "        element.appendChild(docLink);\n",
              "      }\n",
              "    </script>\n",
              "  </div>\n",
              "\n",
              "\n",
              "<div id=\"df-6ca01a02-2d0c-4cf0-8e5b-1d41cf6916d8\">\n",
              "  <button class=\"colab-df-quickchart\" onclick=\"quickchart('df-6ca01a02-2d0c-4cf0-8e5b-1d41cf6916d8')\"\n",
              "            title=\"Suggest charts\"\n",
              "            style=\"display:none;\">\n",
              "\n",
              "<svg xmlns=\"http://www.w3.org/2000/svg\" height=\"24px\"viewBox=\"0 0 24 24\"\n",
              "     width=\"24px\">\n",
              "    <g>\n",
              "        <path d=\"M19 3H5c-1.1 0-2 .9-2 2v14c0 1.1.9 2 2 2h14c1.1 0 2-.9 2-2V5c0-1.1-.9-2-2-2zM9 17H7v-7h2v7zm4 0h-2V7h2v10zm4 0h-2v-4h2v4z\"/>\n",
              "    </g>\n",
              "</svg>\n",
              "  </button>\n",
              "\n",
              "<style>\n",
              "  .colab-df-quickchart {\n",
              "      --bg-color: #E8F0FE;\n",
              "      --fill-color: #1967D2;\n",
              "      --hover-bg-color: #E2EBFA;\n",
              "      --hover-fill-color: #174EA6;\n",
              "      --disabled-fill-color: #AAA;\n",
              "      --disabled-bg-color: #DDD;\n",
              "  }\n",
              "\n",
              "  [theme=dark] .colab-df-quickchart {\n",
              "      --bg-color: #3B4455;\n",
              "      --fill-color: #D2E3FC;\n",
              "      --hover-bg-color: #434B5C;\n",
              "      --hover-fill-color: #FFFFFF;\n",
              "      --disabled-bg-color: #3B4455;\n",
              "      --disabled-fill-color: #666;\n",
              "  }\n",
              "\n",
              "  .colab-df-quickchart {\n",
              "    background-color: var(--bg-color);\n",
              "    border: none;\n",
              "    border-radius: 50%;\n",
              "    cursor: pointer;\n",
              "    display: none;\n",
              "    fill: var(--fill-color);\n",
              "    height: 32px;\n",
              "    padding: 0;\n",
              "    width: 32px;\n",
              "  }\n",
              "\n",
              "  .colab-df-quickchart:hover {\n",
              "    background-color: var(--hover-bg-color);\n",
              "    box-shadow: 0 1px 2px rgba(60, 64, 67, 0.3), 0 1px 3px 1px rgba(60, 64, 67, 0.15);\n",
              "    fill: var(--button-hover-fill-color);\n",
              "  }\n",
              "\n",
              "  .colab-df-quickchart-complete:disabled,\n",
              "  .colab-df-quickchart-complete:disabled:hover {\n",
              "    background-color: var(--disabled-bg-color);\n",
              "    fill: var(--disabled-fill-color);\n",
              "    box-shadow: none;\n",
              "  }\n",
              "\n",
              "  .colab-df-spinner {\n",
              "    border: 2px solid var(--fill-color);\n",
              "    border-color: transparent;\n",
              "    border-bottom-color: var(--fill-color);\n",
              "    animation:\n",
              "      spin 1s steps(1) infinite;\n",
              "  }\n",
              "\n",
              "  @keyframes spin {\n",
              "    0% {\n",
              "      border-color: transparent;\n",
              "      border-bottom-color: var(--fill-color);\n",
              "      border-left-color: var(--fill-color);\n",
              "    }\n",
              "    20% {\n",
              "      border-color: transparent;\n",
              "      border-left-color: var(--fill-color);\n",
              "      border-top-color: var(--fill-color);\n",
              "    }\n",
              "    30% {\n",
              "      border-color: transparent;\n",
              "      border-left-color: var(--fill-color);\n",
              "      border-top-color: var(--fill-color);\n",
              "      border-right-color: var(--fill-color);\n",
              "    }\n",
              "    40% {\n",
              "      border-color: transparent;\n",
              "      border-right-color: var(--fill-color);\n",
              "      border-top-color: var(--fill-color);\n",
              "    }\n",
              "    60% {\n",
              "      border-color: transparent;\n",
              "      border-right-color: var(--fill-color);\n",
              "    }\n",
              "    80% {\n",
              "      border-color: transparent;\n",
              "      border-right-color: var(--fill-color);\n",
              "      border-bottom-color: var(--fill-color);\n",
              "    }\n",
              "    90% {\n",
              "      border-color: transparent;\n",
              "      border-bottom-color: var(--fill-color);\n",
              "    }\n",
              "  }\n",
              "</style>\n",
              "\n",
              "  <script>\n",
              "    async function quickchart(key) {\n",
              "      const quickchartButtonEl =\n",
              "        document.querySelector('#' + key + ' button');\n",
              "      quickchartButtonEl.disabled = true;  // To prevent multiple clicks.\n",
              "      quickchartButtonEl.classList.add('colab-df-spinner');\n",
              "      try {\n",
              "        const charts = await google.colab.kernel.invokeFunction(\n",
              "            'suggestCharts', [key], {});\n",
              "      } catch (error) {\n",
              "        console.error('Error during call to suggestCharts:', error);\n",
              "      }\n",
              "      quickchartButtonEl.classList.remove('colab-df-spinner');\n",
              "      quickchartButtonEl.classList.add('colab-df-quickchart-complete');\n",
              "    }\n",
              "    (() => {\n",
              "      let quickchartButtonEl =\n",
              "        document.querySelector('#df-6ca01a02-2d0c-4cf0-8e5b-1d41cf6916d8 button');\n",
              "      quickchartButtonEl.style.display =\n",
              "        google.colab.kernel.accessAllowed ? 'block' : 'none';\n",
              "    })();\n",
              "  </script>\n",
              "</div>\n",
              "    </div>\n",
              "  </div>\n"
            ]
          },
          "metadata": {},
          "execution_count": 3
        }
      ]
    },
    {
      "cell_type": "markdown",
      "source": [
        "Let's see the mean IQs of these schools"
      ],
      "metadata": {
        "id": "Dq7ZToZmB__-"
      }
    },
    {
      "cell_type": "code",
      "source": [
        "df_iq.groupby('School')['iq'].mean()"
      ],
      "metadata": {
        "colab": {
          "base_uri": "https://localhost:8080/"
        },
        "id": "qRBfj74XAWnJ",
        "outputId": "c651e6d5-ca4f-4c87-8631-d4784dee03df"
      },
      "execution_count": null,
      "outputs": [
        {
          "output_type": "execute_result",
          "data": {
            "text/plain": [
              "School\n",
              "school_1    101.153846\n",
              "school_2    109.416667\n",
              "Name: iq, dtype: float64"
            ]
          },
          "metadata": {},
          "execution_count": 4
        }
      ]
    },
    {
      "cell_type": "markdown",
      "source": [
        "### <font color='red'>**Note:**</font>\n",
        "\n",
        "\n",
        "\n",
        "> <font color='purple'>**What are the null and alternate hypothesis?**</font>\n",
        "\n",
        "There are 3 ways in which we can set them:\n",
        "\n",
        "<font color='purple'>1. Option 1</font>\n",
        " - $H_0$: Both school's students have the same IQ $\\mu_1 = \\mu_2$\n",
        " - $H_a$: Both school's students DO NOT have the same IQ $\\mu_1 \\neq \\mu_2$\n",
        "\n",
        "<font color='purple'>2. Option 2</font>\n",
        " - $H_0$: Both school's students have the same IQ $\\mu_1 = \\mu_2$\n",
        " - $H_a$: School A has higher IQ than School B $\\mu_1 > \\mu_2$\n",
        "\n",
        "<font color='purple'>3. Option 3:</font>\n",
        " - $H_0$: Both school's students have the same IQ $\\mu_1 = \\mu_2$\n",
        " - $H_a$: School B has a higher IQ than school A $\\mu_1 < \\mu_2$\n",
        "\n",
        "Note that here, options 1 and 3 are still viable, but option 2 cannot be true as we saw\n",
        "- $μ_1 = 101$\n",
        "- $μ_2 = 109$\n",
        "\n",
        "<br>\n",
        "\n",
        "Let's explore all these cases."
      ],
      "metadata": {
        "id": "kEbx5LDoG8B7"
      }
    },
    {
      "cell_type": "markdown",
      "source": [
        "### <font color='purple'>Option 1:</font> $H_a$: $\\mu_1 \\neq \\mu_2$"
      ],
      "metadata": {
        "id": "e6cKrcbYIjeE"
      }
    },
    {
      "cell_type": "markdown",
      "source": [
        "Earlier, we had a single sample to be compared with a single value (100).\n",
        "\n",
        "Now, we are comparing 2 sets of samples with each other.\n",
        "\n",
        "This is known as the **Two Sample T-Test**."
      ],
      "metadata": {
        "id": "oogx35PuCodJ"
      }
    },
    {
      "cell_type": "markdown",
      "source": [
        "For this also we have an in-built function `ttest_ind()`\n",
        "- Here `ind` stands for **independent**\n",
        "- Note that in our example also, the IQ scores of School 1 would be independent of the IQ scores of School 2.\n",
        "-  We will explore the concept of dependent samples shortly.\n",
        "\n",
        "So, we will import it from `scipy` as:"
      ],
      "metadata": {
        "id": "Ifrs2aZ6DmTx"
      }
    },
    {
      "cell_type": "code",
      "source": [
        "from scipy.stats import ttest_ind"
      ],
      "metadata": {
        "id": "IC7z8Na8EAMn"
      },
      "execution_count": null,
      "outputs": []
    },
    {
      "cell_type": "markdown",
      "source": [
        "First, let's store the IQs of 2 schools in separate variables.\n"
      ],
      "metadata": {
        "id": "D1U5EutKEQTe"
      }
    },
    {
      "cell_type": "code",
      "source": [
        "iq_1 = df_iq[df_iq['School'] == 'school_1']['iq']\n",
        "iq_2 = df_iq[df_iq['School'] == 'school_2']['iq']\n",
        "\n",
        "iq_1"
      ],
      "metadata": {
        "colab": {
          "base_uri": "https://localhost:8080/"
        },
        "id": "8uDcjbvxEbIJ",
        "outputId": "f022e72f-3228-43e6-842b-0089a952ae5c"
      },
      "execution_count": null,
      "outputs": [
        {
          "output_type": "execute_result",
          "data": {
            "text/plain": [
              "0      91\n",
              "1      95\n",
              "2     110\n",
              "3     112\n",
              "4     115\n",
              "5      94\n",
              "6      82\n",
              "7      84\n",
              "8      85\n",
              "9      89\n",
              "10     91\n",
              "11     91\n",
              "12     92\n",
              "13     94\n",
              "14     99\n",
              "15     99\n",
              "16    105\n",
              "17    109\n",
              "18    109\n",
              "19    109\n",
              "20    110\n",
              "21    112\n",
              "22    112\n",
              "23    113\n",
              "24    114\n",
              "25    114\n",
              "Name: iq, dtype: int64"
            ]
          },
          "metadata": {},
          "execution_count": 32
        }
      ]
    },
    {
      "cell_type": "markdown",
      "source": [
        "Now, let's perform the 2 sample T-test"
      ],
      "metadata": {
        "id": "lRratGyMFMca"
      }
    },
    {
      "cell_type": "code",
      "source": [
        "t_stat, pvalue = ttest_ind(iq_1, iq_2) #alternative='two-sided'\n",
        "t_stat, pvalue"
      ],
      "metadata": {
        "colab": {
          "base_uri": "https://localhost:8080/"
        },
        "id": "U9XlHyq5FO8K",
        "outputId": "4e20e175-5681-48d4-d895-2ca696535dde"
      },
      "execution_count": null,
      "outputs": [
        {
          "output_type": "execute_result",
          "data": {
            "text/plain": [
              "(-2.4056474861512704, 0.02004552710936217)"
            ]
          },
          "metadata": {},
          "execution_count": 40
        }
      ]
    },
    {
      "cell_type": "code",
      "source": [
        "alpha = 0.05 # 95% confidence\n",
        "\n",
        "if pvalue < alpha:\n",
        "  print('Reject H0')\n",
        "else:\n",
        "  print ('Fail to Reject H0')"
      ],
      "metadata": {
        "colab": {
          "base_uri": "https://localhost:8080/"
        },
        "id": "MX4PimGaFfsT",
        "outputId": "48a2cdfe-7d04-4ab9-d570-6f8a085732b6"
      },
      "execution_count": null,
      "outputs": [
        {
          "output_type": "stream",
          "name": "stdout",
          "text": [
            "Reject H0\n"
          ]
        }
      ]
    },
    {
      "cell_type": "markdown",
      "source": [
        "So we can conclude that the mean IQ of both schools are not equal."
      ],
      "metadata": {
        "id": "oPHkOSwdeoY7"
      }
    },
    {
      "cell_type": "markdown",
      "source": [
        "### <font color='purple'>Option 2:</font> $H_a$: $\\mu_1 > \\mu_2$\n",
        "\n",
        "> **In this case should the p-value be high or low?**\n",
        "\n",
        "A lower p-value means getting closer to rejecting the null hypothesis.\n",
        "\n",
        "In this case, the p-value should be higher.\n",
        "\n",
        "<Br>\n",
        "\n",
        "> **What changes will we make to the code to incorporate this alternate hypothesis?**\n",
        "\n",
        "Since $H_a: \\mu_1 > \\mu_2$, we will add parameter `alternative = \"greater\"` to the `ttest_ind`"
      ],
      "metadata": {
        "id": "rgag-rL6FfWo"
      }
    },
    {
      "cell_type": "code",
      "source": [
        "t_stat, pvalue = ttest_ind(iq_1, iq_2, alternative = \"greater\")\n",
        "t_stat, pvalue"
      ],
      "metadata": {
        "colab": {
          "base_uri": "https://localhost:8080/"
        },
        "id": "qpb3box3JesL",
        "outputId": "b32fac8e-4a6f-4ea3-bd4e-9be6b0e6caae"
      },
      "execution_count": null,
      "outputs": [
        {
          "output_type": "execute_result",
          "data": {
            "text/plain": [
              "(-2.4056474861512704, 0.9899772364453189)"
            ]
          },
          "metadata": {},
          "execution_count": 42
        }
      ]
    },
    {
      "cell_type": "code",
      "source": [
        "alpha = 0.05 # 95% confidence\n",
        "\n",
        "if pvalue < alpha:\n",
        "  print('Reject H0')\n",
        "else:\n",
        "  print ('Fail to Reject H0')"
      ],
      "metadata": {
        "colab": {
          "base_uri": "https://localhost:8080/"
        },
        "id": "QRwYhpsAJjEG",
        "outputId": "f6bacfdd-e113-46e8-b3fd-ab8225454d5e"
      },
      "execution_count": null,
      "outputs": [
        {
          "output_type": "stream",
          "name": "stdout",
          "text": [
            "Fail to Reject H0\n"
          ]
        }
      ]
    },
    {
      "cell_type": "markdown",
      "source": [
        "<font color='red'>Note:</font> The p-value is very close to 1, as expected."
      ],
      "metadata": {
        "id": "10LcK-MaJpRO"
      }
    },
    {
      "cell_type": "markdown",
      "source": [
        "### <font color='purple'>Option 3:</font> $H_a$: $\\mu_1 < \\mu_2$\n",
        "\n",
        "Here we will put `alternative = \"less\"`"
      ],
      "metadata": {
        "id": "6jmTOs3TJu0N"
      }
    },
    {
      "cell_type": "code",
      "source": [
        "t_stat, pvalue = ttest_ind(iq_1, iq_2, alternative = \"less\")\n",
        "t_stat, pvalue"
      ],
      "metadata": {
        "colab": {
          "base_uri": "https://localhost:8080/"
        },
        "outputId": "287a0ca1-b6e0-49c3-f8c6-af56a54eea78",
        "id": "m3NaVlgyJ5zO"
      },
      "execution_count": null,
      "outputs": [
        {
          "output_type": "execute_result",
          "data": {
            "text/plain": [
              "(-2.4056474861512704, 0.010022763554681085)"
            ]
          },
          "metadata": {},
          "execution_count": 44
        }
      ]
    },
    {
      "cell_type": "code",
      "source": [
        "alpha = 0.05 # 95% confidence\n",
        "\n",
        "if pvalue < alpha:\n",
        "  print('Reject H0')\n",
        "else:\n",
        "  print ('Fail to Reject H0')"
      ],
      "metadata": {
        "colab": {
          "base_uri": "https://localhost:8080/"
        },
        "outputId": "8b3e4a52-8953-4a9a-a845-545d4dfd59d7",
        "id": "UL970ePOJ5zP"
      },
      "execution_count": null,
      "outputs": [
        {
          "output_type": "stream",
          "name": "stdout",
          "text": [
            "Reject H0\n"
          ]
        }
      ]
    },
    {
      "cell_type": "markdown",
      "source": [
        "> <font color='purple'>**What does changing the** `alternative` **parameter achieve?**</font>\n",
        "\n",
        "It determines which tailed test is to be performed, thereby changing the computation of the p-value.\n",
        "\n",
        "- `greater`: Right-tailed test (Option2)\n",
        "- `less`: Left-tailed test (Option3)\n",
        "- `two-sided`: Two-tailed test (Option1)"
      ],
      "metadata": {
        "id": "Hm3z7TkVKX50"
      }
    },
    {
      "cell_type": "markdown",
      "source": [
        "![image.png](data:image/png;base64,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)"
      ],
      "metadata": {
        "id": "5JZAn9W2M_fC"
      }
    },
    {
      "cell_type": "markdown",
      "source": [
        "---\n",
        "\n",
        "Let's take a look at another example\n",
        "\n",
        "### <font color='purple'>Cricket Example</font> [10-12 mins]"
      ],
      "metadata": {
        "id": "-fmLH59Tb4Gt"
      }
    },
    {
      "cell_type": "code",
      "source": [
        "!wget --no-check-certificate https://drive.google.com/uc?id=1bvVVbWUu6JKQDol0xwj3pqsTs4Qxm_oj -O Sachin_ODI.csv"
      ],
      "metadata": {
        "colab": {
          "base_uri": "https://localhost:8080/"
        },
        "id": "xqpGH5pWlJPW",
        "outputId": "0d9a781c-98ef-4db0-a428-3bfcb2e23a11"
      },
      "execution_count": null,
      "outputs": [
        {
          "output_type": "stream",
          "name": "stdout",
          "text": [
            "--2024-01-17 13:21:37--  https://drive.google.com/uc?id=1bvVVbWUu6JKQDol0xwj3pqsTs4Qxm_oj\n",
            "Resolving drive.google.com (drive.google.com)... 142.251.16.113, 142.251.16.138, 142.251.16.139, ...\n",
            "Connecting to drive.google.com (drive.google.com)|142.251.16.113|:443... connected.\n",
            "HTTP request sent, awaiting response... 303 See Other\n",
            "Location: https://drive.usercontent.google.com/download?id=1bvVVbWUu6JKQDol0xwj3pqsTs4Qxm_oj [following]\n",
            "--2024-01-17 13:21:37--  https://drive.usercontent.google.com/download?id=1bvVVbWUu6JKQDol0xwj3pqsTs4Qxm_oj\n",
            "Resolving drive.usercontent.google.com (drive.usercontent.google.com)... 142.251.167.132, 2607:f8b0:4004:c1d::84\n",
            "Connecting to drive.usercontent.google.com (drive.usercontent.google.com)|142.251.167.132|:443... connected.\n",
            "HTTP request sent, awaiting response... 200 OK\n",
            "Length: 26440 (26K) [application/octet-stream]\n",
            "Saving to: ‘Sachin_ODI.csv’\n",
            "\n",
            "Sachin_ODI.csv      100%[===================>]  25.82K  --.-KB/s    in 0s      \n",
            "\n",
            "2024-01-17 13:21:38 (97.0 MB/s) - ‘Sachin_ODI.csv’ saved [26440/26440]\n",
            "\n"
          ]
        }
      ]
    },
    {
      "cell_type": "code",
      "source": [
        "df = pd.read_csv('/content/Sachin_ODI.csv')\n",
        "df"
      ],
      "metadata": {
        "colab": {
          "base_uri": "https://localhost:8080/",
          "height": 423
        },
        "id": "R5jeafjycOSE",
        "outputId": "5773f9a1-cd2a-4eb6-94da-fb726496e259"
      },
      "execution_count": null,
      "outputs": [
        {
          "output_type": "execute_result",
          "data": {
            "text/plain": [
              "     runs  NotOut mins   bf  fours  sixes      sr  Inns           Opp  \\\n",
              "0      13       0   30   15      3      0   86.66     1   New Zealand   \n",
              "1      37       0   75   51      3      1   72.54     2  South Africa   \n",
              "2      47       0   65   40      7      0  117.50     2     Australia   \n",
              "3      48       0   37   30      9      1  160.00     2    Bangladesh   \n",
              "4       4       0   13    9      1      0   44.44     2      Pakistan   \n",
              "..    ...     ...  ...  ...    ...    ...     ...   ...           ...   \n",
              "355    14       0   34   15      2      0   93.33     2     Australia   \n",
              "356    39       0   45   30      5      0  130.00     2     Sri Lanka   \n",
              "357     6       0   25   19      1      0   31.57     1     Sri Lanka   \n",
              "358   114       0  205  147     12      1   77.55     1    Bangladesh   \n",
              "359    52       0   93   48      5      1  108.33     2      Pakistan   \n",
              "\n",
              "       Ground        Date        Winner    Won  century  \n",
              "0      Napier  1995-02-16   New Zealand  False    False  \n",
              "1    Hamilton  1995-02-18  South Africa  False    False  \n",
              "2     Dunedin  1995-02-22         India   True    False  \n",
              "3     Sharjah  1995-04-05         India   True    False  \n",
              "4     Sharjah  1995-04-07      Pakistan  False    False  \n",
              "..        ...         ...           ...    ...      ...  \n",
              "355    Sydney  2012-02-26     Australia  False    False  \n",
              "356    Hobart  2012-02-28         India   True    False  \n",
              "357     Dhaka  2012-03-13         India   True    False  \n",
              "358     Dhaka  2012-03-16    Bangladesh  False     True  \n",
              "359     Dhaka  2012-03-18         India   True    False  \n",
              "\n",
              "[360 rows x 14 columns]"
            ],
            "text/html": [
              "\n",
              "  <div id=\"df-09d03b07-4107-4af7-ae4a-7c5f4ed5c719\" class=\"colab-df-container\">\n",
              "    <div>\n",
              "<style scoped>\n",
              "    .dataframe tbody tr th:only-of-type {\n",
              "        vertical-align: middle;\n",
              "    }\n",
              "\n",
              "    .dataframe tbody tr th {\n",
              "        vertical-align: top;\n",
              "    }\n",
              "\n",
              "    .dataframe thead th {\n",
              "        text-align: right;\n",
              "    }\n",
              "</style>\n",
              "<table border=\"1\" class=\"dataframe\">\n",
              "  <thead>\n",
              "    <tr style=\"text-align: right;\">\n",
              "      <th></th>\n",
              "      <th>runs</th>\n",
              "      <th>NotOut</th>\n",
              "      <th>mins</th>\n",
              "      <th>bf</th>\n",
              "      <th>fours</th>\n",
              "      <th>sixes</th>\n",
              "      <th>sr</th>\n",
              "      <th>Inns</th>\n",
              "      <th>Opp</th>\n",
              "      <th>Ground</th>\n",
              "      <th>Date</th>\n",
              "      <th>Winner</th>\n",
              "      <th>Won</th>\n",
              "      <th>century</th>\n",
              "    </tr>\n",
              "  </thead>\n",
              "  <tbody>\n",
              "    <tr>\n",
              "      <th>0</th>\n",
              "      <td>13</td>\n",
              "      <td>0</td>\n",
              "      <td>30</td>\n",
              "      <td>15</td>\n",
              "      <td>3</td>\n",
              "      <td>0</td>\n",
              "      <td>86.66</td>\n",
              "      <td>1</td>\n",
              "      <td>New Zealand</td>\n",
              "      <td>Napier</td>\n",
              "      <td>1995-02-16</td>\n",
              "      <td>New Zealand</td>\n",
              "      <td>False</td>\n",
              "      <td>False</td>\n",
              "    </tr>\n",
              "    <tr>\n",
              "      <th>1</th>\n",
              "      <td>37</td>\n",
              "      <td>0</td>\n",
              "      <td>75</td>\n",
              "      <td>51</td>\n",
              "      <td>3</td>\n",
              "      <td>1</td>\n",
              "      <td>72.54</td>\n",
              "      <td>2</td>\n",
              "      <td>South Africa</td>\n",
              "      <td>Hamilton</td>\n",
              "      <td>1995-02-18</td>\n",
              "      <td>South Africa</td>\n",
              "      <td>False</td>\n",
              "      <td>False</td>\n",
              "    </tr>\n",
              "    <tr>\n",
              "      <th>2</th>\n",
              "      <td>47</td>\n",
              "      <td>0</td>\n",
              "      <td>65</td>\n",
              "      <td>40</td>\n",
              "      <td>7</td>\n",
              "      <td>0</td>\n",
              "      <td>117.50</td>\n",
              "      <td>2</td>\n",
              "      <td>Australia</td>\n",
              "      <td>Dunedin</td>\n",
              "      <td>1995-02-22</td>\n",
              "      <td>India</td>\n",
              "      <td>True</td>\n",
              "      <td>False</td>\n",
              "    </tr>\n",
              "    <tr>\n",
              "      <th>3</th>\n",
              "      <td>48</td>\n",
              "      <td>0</td>\n",
              "      <td>37</td>\n",
              "      <td>30</td>\n",
              "      <td>9</td>\n",
              "      <td>1</td>\n",
              "      <td>160.00</td>\n",
              "      <td>2</td>\n",
              "      <td>Bangladesh</td>\n",
              "      <td>Sharjah</td>\n",
              "      <td>1995-04-05</td>\n",
              "      <td>India</td>\n",
              "      <td>True</td>\n",
              "      <td>False</td>\n",
              "    </tr>\n",
              "    <tr>\n",
              "      <th>4</th>\n",
              "      <td>4</td>\n",
              "      <td>0</td>\n",
              "      <td>13</td>\n",
              "      <td>9</td>\n",
              "      <td>1</td>\n",
              "      <td>0</td>\n",
              "      <td>44.44</td>\n",
              "      <td>2</td>\n",
              "      <td>Pakistan</td>\n",
              "      <td>Sharjah</td>\n",
              "      <td>1995-04-07</td>\n",
              "      <td>Pakistan</td>\n",
              "      <td>False</td>\n",
              "      <td>False</td>\n",
              "    </tr>\n",
              "    <tr>\n",
              "      <th>...</th>\n",
              "      <td>...</td>\n",
              "      <td>...</td>\n",
              "      <td>...</td>\n",
              "      <td>...</td>\n",
              "      <td>...</td>\n",
              "      <td>...</td>\n",
              "      <td>...</td>\n",
              "      <td>...</td>\n",
              "      <td>...</td>\n",
              "      <td>...</td>\n",
              "      <td>...</td>\n",
              "      <td>...</td>\n",
              "      <td>...</td>\n",
              "      <td>...</td>\n",
              "    </tr>\n",
              "    <tr>\n",
              "      <th>355</th>\n",
              "      <td>14</td>\n",
              "      <td>0</td>\n",
              "      <td>34</td>\n",
              "      <td>15</td>\n",
              "      <td>2</td>\n",
              "      <td>0</td>\n",
              "      <td>93.33</td>\n",
              "      <td>2</td>\n",
              "      <td>Australia</td>\n",
              "      <td>Sydney</td>\n",
              "      <td>2012-02-26</td>\n",
              "      <td>Australia</td>\n",
              "      <td>False</td>\n",
              "      <td>False</td>\n",
              "    </tr>\n",
              "    <tr>\n",
              "      <th>356</th>\n",
              "      <td>39</td>\n",
              "      <td>0</td>\n",
              "      <td>45</td>\n",
              "      <td>30</td>\n",
              "      <td>5</td>\n",
              "      <td>0</td>\n",
              "      <td>130.00</td>\n",
              "      <td>2</td>\n",
              "      <td>Sri Lanka</td>\n",
              "      <td>Hobart</td>\n",
              "      <td>2012-02-28</td>\n",
              "      <td>India</td>\n",
              "      <td>True</td>\n",
              "      <td>False</td>\n",
              "    </tr>\n",
              "    <tr>\n",
              "      <th>357</th>\n",
              "      <td>6</td>\n",
              "      <td>0</td>\n",
              "      <td>25</td>\n",
              "      <td>19</td>\n",
              "      <td>1</td>\n",
              "      <td>0</td>\n",
              "      <td>31.57</td>\n",
              "      <td>1</td>\n",
              "      <td>Sri Lanka</td>\n",
              "      <td>Dhaka</td>\n",
              "      <td>2012-03-13</td>\n",
              "      <td>India</td>\n",
              "      <td>True</td>\n",
              "      <td>False</td>\n",
              "    </tr>\n",
              "    <tr>\n",
              "      <th>358</th>\n",
              "      <td>114</td>\n",
              "      <td>0</td>\n",
              "      <td>205</td>\n",
              "      <td>147</td>\n",
              "      <td>12</td>\n",
              "      <td>1</td>\n",
              "      <td>77.55</td>\n",
              "      <td>1</td>\n",
              "      <td>Bangladesh</td>\n",
              "      <td>Dhaka</td>\n",
              "      <td>2012-03-16</td>\n",
              "      <td>Bangladesh</td>\n",
              "      <td>False</td>\n",
              "      <td>True</td>\n",
              "    </tr>\n",
              "    <tr>\n",
              "      <th>359</th>\n",
              "      <td>52</td>\n",
              "      <td>0</td>\n",
              "      <td>93</td>\n",
              "      <td>48</td>\n",
              "      <td>5</td>\n",
              "      <td>1</td>\n",
              "      <td>108.33</td>\n",
              "      <td>2</td>\n",
              "      <td>Pakistan</td>\n",
              "      <td>Dhaka</td>\n",
              "      <td>2012-03-18</td>\n",
              "      <td>India</td>\n",
              "      <td>True</td>\n",
              "      <td>False</td>\n",
              "    </tr>\n",
              "  </tbody>\n",
              "</table>\n",
              "<p>360 rows × 14 columns</p>\n",
              "</div>\n",
              "    <div class=\"colab-df-buttons\">\n",
              "\n",
              "  <div class=\"colab-df-container\">\n",
              "    <button class=\"colab-df-convert\" onclick=\"convertToInteractive('df-09d03b07-4107-4af7-ae4a-7c5f4ed5c719')\"\n",
              "            title=\"Convert this dataframe to an interactive table.\"\n",
              "            style=\"display:none;\">\n",
              "\n",
              "  <svg xmlns=\"http://www.w3.org/2000/svg\" height=\"24px\" viewBox=\"0 -960 960 960\">\n",
              "    <path d=\"M120-120v-720h720v720H120Zm60-500h600v-160H180v160Zm220 220h160v-160H400v160Zm0 220h160v-160H400v160ZM180-400h160v-160H180v160Zm440 0h160v-160H620v160ZM180-180h160v-160H180v160Zm440 0h160v-160H620v160Z\"/>\n",
              "  </svg>\n",
              "    </button>\n",
              "\n",
              "  <style>\n",
              "    .colab-df-container {\n",
              "      display:flex;\n",
              "      gap: 12px;\n",
              "    }\n",
              "\n",
              "    .colab-df-convert {\n",
              "      background-color: #E8F0FE;\n",
              "      border: none;\n",
              "      border-radius: 50%;\n",
              "      cursor: pointer;\n",
              "      display: none;\n",
              "      fill: #1967D2;\n",
              "      height: 32px;\n",
              "      padding: 0 0 0 0;\n",
              "      width: 32px;\n",
              "    }\n",
              "\n",
              "    .colab-df-convert:hover {\n",
              "      background-color: #E2EBFA;\n",
              "      box-shadow: 0px 1px 2px rgba(60, 64, 67, 0.3), 0px 1px 3px 1px rgba(60, 64, 67, 0.15);\n",
              "      fill: #174EA6;\n",
              "    }\n",
              "\n",
              "    .colab-df-buttons div {\n",
              "      margin-bottom: 4px;\n",
              "    }\n",
              "\n",
              "    [theme=dark] .colab-df-convert {\n",
              "      background-color: #3B4455;\n",
              "      fill: #D2E3FC;\n",
              "    }\n",
              "\n",
              "    [theme=dark] .colab-df-convert:hover {\n",
              "      background-color: #434B5C;\n",
              "      box-shadow: 0px 1px 3px 1px rgba(0, 0, 0, 0.15);\n",
              "      filter: drop-shadow(0px 1px 2px rgba(0, 0, 0, 0.3));\n",
              "      fill: #FFFFFF;\n",
              "    }\n",
              "  </style>\n",
              "\n",
              "    <script>\n",
              "      const buttonEl =\n",
              "        document.querySelector('#df-09d03b07-4107-4af7-ae4a-7c5f4ed5c719 button.colab-df-convert');\n",
              "      buttonEl.style.display =\n",
              "        google.colab.kernel.accessAllowed ? 'block' : 'none';\n",
              "\n",
              "      async function convertToInteractive(key) {\n",
              "        const element = document.querySelector('#df-09d03b07-4107-4af7-ae4a-7c5f4ed5c719');\n",
              "        const dataTable =\n",
              "          await google.colab.kernel.invokeFunction('convertToInteractive',\n",
              "                                                    [key], {});\n",
              "        if (!dataTable) return;\n",
              "\n",
              "        const docLinkHtml = 'Like what you see? Visit the ' +\n",
              "          '<a target=\"_blank\" href=https://colab.research.google.com/notebooks/data_table.ipynb>data table notebook</a>'\n",
              "          + ' to learn more about interactive tables.';\n",
              "        element.innerHTML = '';\n",
              "        dataTable['output_type'] = 'display_data';\n",
              "        await google.colab.output.renderOutput(dataTable, element);\n",
              "        const docLink = document.createElement('div');\n",
              "        docLink.innerHTML = docLinkHtml;\n",
              "        element.appendChild(docLink);\n",
              "      }\n",
              "    </script>\n",
              "  </div>\n",
              "\n",
              "\n",
              "<div id=\"df-9a332421-88f1-4e97-91d1-208c4242ac07\">\n",
              "  <button class=\"colab-df-quickchart\" onclick=\"quickchart('df-9a332421-88f1-4e97-91d1-208c4242ac07')\"\n",
              "            title=\"Suggest charts\"\n",
              "            style=\"display:none;\">\n",
              "\n",
              "<svg xmlns=\"http://www.w3.org/2000/svg\" height=\"24px\"viewBox=\"0 0 24 24\"\n",
              "     width=\"24px\">\n",
              "    <g>\n",
              "        <path d=\"M19 3H5c-1.1 0-2 .9-2 2v14c0 1.1.9 2 2 2h14c1.1 0 2-.9 2-2V5c0-1.1-.9-2-2-2zM9 17H7v-7h2v7zm4 0h-2V7h2v10zm4 0h-2v-4h2v4z\"/>\n",
              "    </g>\n",
              "</svg>\n",
              "  </button>\n",
              "\n",
              "<style>\n",
              "  .colab-df-quickchart {\n",
              "      --bg-color: #E8F0FE;\n",
              "      --fill-color: #1967D2;\n",
              "      --hover-bg-color: #E2EBFA;\n",
              "      --hover-fill-color: #174EA6;\n",
              "      --disabled-fill-color: #AAA;\n",
              "      --disabled-bg-color: #DDD;\n",
              "  }\n",
              "\n",
              "  [theme=dark] .colab-df-quickchart {\n",
              "      --bg-color: #3B4455;\n",
              "      --fill-color: #D2E3FC;\n",
              "      --hover-bg-color: #434B5C;\n",
              "      --hover-fill-color: #FFFFFF;\n",
              "      --disabled-bg-color: #3B4455;\n",
              "      --disabled-fill-color: #666;\n",
              "  }\n",
              "\n",
              "  .colab-df-quickchart {\n",
              "    background-color: var(--bg-color);\n",
              "    border: none;\n",
              "    border-radius: 50%;\n",
              "    cursor: pointer;\n",
              "    display: none;\n",
              "    fill: var(--fill-color);\n",
              "    height: 32px;\n",
              "    padding: 0;\n",
              "    width: 32px;\n",
              "  }\n",
              "\n",
              "  .colab-df-quickchart:hover {\n",
              "    background-color: var(--hover-bg-color);\n",
              "    box-shadow: 0 1px 2px rgba(60, 64, 67, 0.3), 0 1px 3px 1px rgba(60, 64, 67, 0.15);\n",
              "    fill: var(--button-hover-fill-color);\n",
              "  }\n",
              "\n",
              "  .colab-df-quickchart-complete:disabled,\n",
              "  .colab-df-quickchart-complete:disabled:hover {\n",
              "    background-color: var(--disabled-bg-color);\n",
              "    fill: var(--disabled-fill-color);\n",
              "    box-shadow: none;\n",
              "  }\n",
              "\n",
              "  .colab-df-spinner {\n",
              "    border: 2px solid var(--fill-color);\n",
              "    border-color: transparent;\n",
              "    border-bottom-color: var(--fill-color);\n",
              "    animation:\n",
              "      spin 1s steps(1) infinite;\n",
              "  }\n",
              "\n",
              "  @keyframes spin {\n",
              "    0% {\n",
              "      border-color: transparent;\n",
              "      border-bottom-color: var(--fill-color);\n",
              "      border-left-color: var(--fill-color);\n",
              "    }\n",
              "    20% {\n",
              "      border-color: transparent;\n",
              "      border-left-color: var(--fill-color);\n",
              "      border-top-color: var(--fill-color);\n",
              "    }\n",
              "    30% {\n",
              "      border-color: transparent;\n",
              "      border-left-color: var(--fill-color);\n",
              "      border-top-color: var(--fill-color);\n",
              "      border-right-color: var(--fill-color);\n",
              "    }\n",
              "    40% {\n",
              "      border-color: transparent;\n",
              "      border-right-color: var(--fill-color);\n",
              "      border-top-color: var(--fill-color);\n",
              "    }\n",
              "    60% {\n",
              "      border-color: transparent;\n",
              "      border-right-color: var(--fill-color);\n",
              "    }\n",
              "    80% {\n",
              "      border-color: transparent;\n",
              "      border-right-color: var(--fill-color);\n",
              "      border-bottom-color: var(--fill-color);\n",
              "    }\n",
              "    90% {\n",
              "      border-color: transparent;\n",
              "      border-bottom-color: var(--fill-color);\n",
              "    }\n",
              "  }\n",
              "</style>\n",
              "\n",
              "  <script>\n",
              "    async function quickchart(key) {\n",
              "      const quickchartButtonEl =\n",
              "        document.querySelector('#' + key + ' button');\n",
              "      quickchartButtonEl.disabled = true;  // To prevent multiple clicks.\n",
              "      quickchartButtonEl.classList.add('colab-df-spinner');\n",
              "      try {\n",
              "        const charts = await google.colab.kernel.invokeFunction(\n",
              "            'suggestCharts', [key], {});\n",
              "      } catch (error) {\n",
              "        console.error('Error during call to suggestCharts:', error);\n",
              "      }\n",
              "      quickchartButtonEl.classList.remove('colab-df-spinner');\n",
              "      quickchartButtonEl.classList.add('colab-df-quickchart-complete');\n",
              "    }\n",
              "    (() => {\n",
              "      let quickchartButtonEl =\n",
              "        document.querySelector('#df-9a332421-88f1-4e97-91d1-208c4242ac07 button');\n",
              "      quickchartButtonEl.style.display =\n",
              "        google.colab.kernel.accessAllowed ? 'block' : 'none';\n",
              "    })();\n",
              "  </script>\n",
              "</div>\n",
              "    </div>\n",
              "  </div>\n"
            ]
          },
          "metadata": {},
          "execution_count": 6
        }
      ]
    },
    {
      "cell_type": "markdown",
      "source": [
        "Now based on this dataset, we will analyze and answer a few questions using our statistical tools."
      ],
      "metadata": {
        "id": "QCXXIucEcgk7"
      }
    },
    {
      "cell_type": "markdown",
      "source": [
        "#### <font color='purple'>Batting pattern in first and second Innings</font>"
      ],
      "metadata": {
        "id": "g3O-WUU6cmRn"
      }
    },
    {
      "cell_type": "markdown",
      "source": [
        "First, let's look at the respective means."
      ],
      "metadata": {
        "id": "eCO3GSBHctuj"
      }
    },
    {
      "cell_type": "code",
      "source": [
        "df.groupby('Inns')['runs'].mean()"
      ],
      "metadata": {
        "colab": {
          "base_uri": "https://localhost:8080/"
        },
        "id": "-IJVM6eWcw6D",
        "outputId": "06762e9c-ce73-4c00-968d-7cb573f185b6"
      },
      "execution_count": null,
      "outputs": [
        {
          "output_type": "execute_result",
          "data": {
            "text/plain": [
              "Inns\n",
              "1    46.670588\n",
              "2    40.173684\n",
              "Name: runs, dtype: float64"
            ]
          },
          "metadata": {},
          "execution_count": 7
        }
      ]
    },
    {
      "cell_type": "markdown",
      "source": [
        "> <font color='purple'>**What do you think, is it a coincidence or is it significant?**</font>\n",
        "\n",
        "Seems like a hypothesis we can test using T-test!\n",
        "\n",
        "Let's find out.\n",
        "\n",
        "<br>\n",
        "\n",
        "> <font color='purple'>**What will be the null and alternate hypothesis?**</font>\n",
        "\n",
        "Let the average runs scored in the first and second innings be $μ_1$ and $μ_2$ respectively.\n",
        "\n",
        "- $H_0: μ_1 = μ_2$\n",
        "\n",
        "For the alternate hypothesis, we have a sense that maybe the runs scored in the first innings are greater than in the second innings.\n",
        "\n",
        "So we can set it like:\n",
        "- $H_a: μ_1 > μ_2$"
      ],
      "metadata": {
        "id": "OuOWzimvc8Ex"
      }
    },
    {
      "cell_type": "code",
      "source": [
        "df_first_innings = df[df['Inns'] == 1]\n",
        "df_second_innings = df[df['Inns'] == 2]"
      ],
      "metadata": {
        "id": "iKImvTUAeViX"
      },
      "execution_count": null,
      "outputs": []
    },
    {
      "cell_type": "markdown",
      "source": [
        "<font color='purple'>Performing T-test</font>"
      ],
      "metadata": {
        "id": "dG7p-B8Sevv6"
      }
    },
    {
      "cell_type": "code",
      "source": [
        "t_stat, pvalue = ttest_ind(df_first_innings['runs'], df_second_innings['runs'], alternative = \"greater\")\n",
        "t_stat, pvalue"
      ],
      "metadata": {
        "colab": {
          "base_uri": "https://localhost:8080/"
        },
        "outputId": "df269939-d1e3-44a1-c122-d53ba562affa",
        "id": "Mk7ZpyreexiV"
      },
      "execution_count": null,
      "outputs": [
        {
          "output_type": "execute_result",
          "data": {
            "text/plain": [
              "(1.4612016295532178, 0.07241862097379981)"
            ]
          },
          "metadata": {},
          "execution_count": 52
        }
      ]
    },
    {
      "cell_type": "code",
      "source": [
        "alpha = 0.05 # 95% confidence\n",
        "\n",
        "if pvalue < alpha:\n",
        "  print('Reject H0')\n",
        "  print('First innings is better')\n",
        "else:\n",
        "  print ('Fail to Reject H0')\n",
        "  print('Difference we observe is just chance')"
      ],
      "metadata": {
        "colab": {
          "base_uri": "https://localhost:8080/"
        },
        "outputId": "9c245fb2-3715-4cbf-be01-3e112ab2bcbe",
        "id": "fmrB0z-dexiW"
      },
      "execution_count": null,
      "outputs": [
        {
          "output_type": "stream",
          "name": "stdout",
          "text": [
            "Fail to Reject H0\n",
            "Difference we observe is just chance\n"
          ]
        }
      ]
    },
    {
      "cell_type": "markdown",
      "source": [
        "#### <font color=\"purple\">What if we want to look at the Batting pattern when the team won vs lost?"
      ],
      "metadata": {
        "id": "tvTqpB_OfTCG"
      }
    },
    {
      "cell_type": "code",
      "source": [
        "df.groupby('Won')['runs'].mean()"
      ],
      "metadata": {
        "colab": {
          "base_uri": "https://localhost:8080/"
        },
        "id": "M60yR4vxfiup",
        "outputId": "f6fb52e6-11aa-4462-e77f-848270b92a66"
      },
      "execution_count": null,
      "outputs": [
        {
          "output_type": "execute_result",
          "data": {
            "text/plain": [
              "Won\n",
              "False    35.130682\n",
              "True     51.000000\n",
              "Name: runs, dtype: float64"
            ]
          },
          "metadata": {},
          "execution_count": 56
        }
      ]
    },
    {
      "cell_type": "markdown",
      "source": [
        "This seems to be a significant difference.\n",
        "\n",
        "Let's check using T-test"
      ],
      "metadata": {
        "id": "Ku7hw8OKfuZS"
      }
    },
    {
      "cell_type": "code",
      "source": [
        "df_won = df[df['Won'] == True]\n",
        "df_lost = df[df['Won'] == False]"
      ],
      "metadata": {
        "id": "OA4rK85SfgJo"
      },
      "execution_count": null,
      "outputs": []
    },
    {
      "cell_type": "markdown",
      "source": [
        "> <font color='purple'>**What are null and alternate hypothesis?**</font>\n",
        "\n",
        "- $H_0: μ_1 = μ_2$, i.e. No difference in batting, irrespective of win or loss\n",
        "- $H_a: μ_1 > μ_2$, i.e. better batting when match is won\n",
        "\n",
        "With this, let's perform the test"
      ],
      "metadata": {
        "id": "2UiB-nZ5gEzq"
      }
    },
    {
      "cell_type": "code",
      "source": [
        "t_stat, pvalue = ttest_ind(df_won['runs'], df_lost['runs'], alternative = \"greater\")\n",
        "t_stat, pvalue"
      ],
      "metadata": {
        "colab": {
          "base_uri": "https://localhost:8080/"
        },
        "outputId": "2e10bcec-433f-4936-d7e9-5f6f126c9549",
        "id": "pUWG4cBFggqp"
      },
      "execution_count": null,
      "outputs": [
        {
          "output_type": "execute_result",
          "data": {
            "text/plain": [
              "(3.628068563969343, 0.00016353077486826558)"
            ]
          },
          "metadata": {},
          "execution_count": 58
        }
      ]
    },
    {
      "cell_type": "code",
      "source": [
        "alpha = 0.05 # 95% confidence\n",
        "\n",
        "if pvalue < alpha:\n",
        "  print('Reject H0')\n",
        "  print('Better scores when team won the match')\n",
        "else:\n",
        "  print ('Fail to Reject H0')\n",
        "  print('Difference we observe is just chance')"
      ],
      "metadata": {
        "colab": {
          "base_uri": "https://localhost:8080/"
        },
        "outputId": "ea18ee7f-1c32-4daa-8c44-0fd9325460fb",
        "id": "USlHrX2oggqs"
      },
      "execution_count": null,
      "outputs": [
        {
          "output_type": "stream",
          "name": "stdout",
          "text": [
            "Reject H0\n",
            "First innings is better\n"
          ]
        }
      ]
    },
    {
      "cell_type": "markdown",
      "source": [
        "The obtained pvalue was very small, making it highly unlikely for the difference to be a coincidence.\n",
        "\n",
        "Therefore we can say with a 95% confidence:\n",
        "- `runs` and `Won` have a good relationship between them.\n",
        "- Whereas, `runs` and `Inns`  do not."
      ],
      "metadata": {
        "id": "lPASrHyjg99m"
      }
    },
    {
      "cell_type": "markdown",
      "source": [
        "---\n",
        "\n",
        "Another context in which people often use T-tests is\n",
        "\n",
        "### <font color='purple'>Drug Recovery Time Example</font> [8-10 mins]\n",
        "\n",
        "Suppose there are 2 competing companies that have created a drug for tackling the same disease.\n",
        "\n",
        "A test was conducted using these 2 drugs on a group of people and you are given the same in the following data.\n",
        "\n",
        "This data contains the **number of days** an individual took to recover from illness, using the mentioned drug.\n",
        "\n",
        "<font color='purple'>Which drug is more effective?</font>"
      ],
      "metadata": {
        "id": "stDhF_5sh4za"
      }
    },
    {
      "cell_type": "code",
      "source": [
        "!wget --no-check-certificate https://drive.google.com/uc?id=1aTrYo2_PIeYcg8Fvpr5m2GYAXiPvvOmz -O drug_1_recovery.csv"
      ],
      "metadata": {
        "colab": {
          "base_uri": "https://localhost:8080/"
        },
        "id": "0k1l7qXLlid6",
        "outputId": "3cd86324-59f1-4e6b-db1a-ec9cb28ef2e3"
      },
      "execution_count": null,
      "outputs": [
        {
          "output_type": "stream",
          "name": "stdout",
          "text": [
            "--2024-04-02 07:49:20--  https://drive.google.com/uc?id=1aTrYo2_PIeYcg8Fvpr5m2GYAXiPvvOmz\n",
            "Resolving drive.google.com (drive.google.com)... 173.194.212.100, 173.194.212.138, 173.194.212.102, ...\n",
            "Connecting to drive.google.com (drive.google.com)|173.194.212.100|:443... connected.\n",
            "HTTP request sent, awaiting response... 303 See Other\n",
            "Location: https://drive.usercontent.google.com/download?id=1aTrYo2_PIeYcg8Fvpr5m2GYAXiPvvOmz [following]\n",
            "--2024-04-02 07:49:20--  https://drive.usercontent.google.com/download?id=1aTrYo2_PIeYcg8Fvpr5m2GYAXiPvvOmz\n",
            "Resolving drive.usercontent.google.com (drive.usercontent.google.com)... 142.251.162.132, 2607:f8b0:400c:c38::84\n",
            "Connecting to drive.usercontent.google.com (drive.usercontent.google.com)|142.251.162.132|:443... connected.\n",
            "HTTP request sent, awaiting response... 200 OK\n",
            "Length: 1102 (1.1K) [application/octet-stream]\n",
            "Saving to: ‘drug_1_recovery.csv’\n",
            "\n",
            "drug_1_recovery.csv 100%[===================>]   1.08K  --.-KB/s    in 0s      \n",
            "\n",
            "2024-04-02 07:49:20 (42.3 MB/s) - ‘drug_1_recovery.csv’ saved [1102/1102]\n",
            "\n"
          ]
        }
      ]
    },
    {
      "cell_type": "code",
      "source": [
        "import pandas as pd\n",
        "d1 = pd.read_csv('/content/drug_1_recovery.csv')\n",
        "d1"
      ],
      "metadata": {
        "colab": {
          "base_uri": "https://localhost:8080/",
          "height": 423
        },
        "id": "noy59WQ4iugg",
        "outputId": "027e8882-60a7-45dd-8e22-ba964ac35179"
      },
      "execution_count": null,
      "outputs": [
        {
          "output_type": "execute_result",
          "data": {
            "text/plain": [
              "      drug_1\n",
              "0   8.824208\n",
              "1   7.477745\n",
              "2   7.557121\n",
              "3   7.981314\n",
              "4   6.827716\n",
              "..       ...\n",
              "95  6.890506\n",
              "96  7.725759\n",
              "97  6.848016\n",
              "98  7.969997\n",
              "99  7.104209\n",
              "\n",
              "[100 rows x 1 columns]"
            ],
            "text/html": [
              "\n",
              "  <div id=\"df-f55fbebf-fcbc-49e1-a093-af18515e4f89\" class=\"colab-df-container\">\n",
              "    <div>\n",
              "<style scoped>\n",
              "    .dataframe tbody tr th:only-of-type {\n",
              "        vertical-align: middle;\n",
              "    }\n",
              "\n",
              "    .dataframe tbody tr th {\n",
              "        vertical-align: top;\n",
              "    }\n",
              "\n",
              "    .dataframe thead th {\n",
              "        text-align: right;\n",
              "    }\n",
              "</style>\n",
              "<table border=\"1\" class=\"dataframe\">\n",
              "  <thead>\n",
              "    <tr style=\"text-align: right;\">\n",
              "      <th></th>\n",
              "      <th>drug_1</th>\n",
              "    </tr>\n",
              "  </thead>\n",
              "  <tbody>\n",
              "    <tr>\n",
              "      <th>0</th>\n",
              "      <td>8.824208</td>\n",
              "    </tr>\n",
              "    <tr>\n",
              "      <th>1</th>\n",
              "      <td>7.477745</td>\n",
              "    </tr>\n",
              "    <tr>\n",
              "      <th>2</th>\n",
              "      <td>7.557121</td>\n",
              "    </tr>\n",
              "    <tr>\n",
              "      <th>3</th>\n",
              "      <td>7.981314</td>\n",
              "    </tr>\n",
              "    <tr>\n",
              "      <th>4</th>\n",
              "      <td>6.827716</td>\n",
              "    </tr>\n",
              "    <tr>\n",
              "      <th>...</th>\n",
              "      <td>...</td>\n",
              "    </tr>\n",
              "    <tr>\n",
              "      <th>95</th>\n",
              "      <td>6.890506</td>\n",
              "    </tr>\n",
              "    <tr>\n",
              "      <th>96</th>\n",
              "      <td>7.725759</td>\n",
              "    </tr>\n",
              "    <tr>\n",
              "      <th>97</th>\n",
              "      <td>6.848016</td>\n",
              "    </tr>\n",
              "    <tr>\n",
              "      <th>98</th>\n",
              "      <td>7.969997</td>\n",
              "    </tr>\n",
              "    <tr>\n",
              "      <th>99</th>\n",
              "      <td>7.104209</td>\n",
              "    </tr>\n",
              "  </tbody>\n",
              "</table>\n",
              "<p>100 rows × 1 columns</p>\n",
              "</div>\n",
              "    <div class=\"colab-df-buttons\">\n",
              "\n",
              "  <div class=\"colab-df-container\">\n",
              "    <button class=\"colab-df-convert\" onclick=\"convertToInteractive('df-f55fbebf-fcbc-49e1-a093-af18515e4f89')\"\n",
              "            title=\"Convert this dataframe to an interactive table.\"\n",
              "            style=\"display:none;\">\n",
              "\n",
              "  <svg xmlns=\"http://www.w3.org/2000/svg\" height=\"24px\" viewBox=\"0 -960 960 960\">\n",
              "    <path d=\"M120-120v-720h720v720H120Zm60-500h600v-160H180v160Zm220 220h160v-160H400v160Zm0 220h160v-160H400v160ZM180-400h160v-160H180v160Zm440 0h160v-160H620v160ZM180-180h160v-160H180v160Zm440 0h160v-160H620v160Z\"/>\n",
              "  </svg>\n",
              "    </button>\n",
              "\n",
              "  <style>\n",
              "    .colab-df-container {\n",
              "      display:flex;\n",
              "      gap: 12px;\n",
              "    }\n",
              "\n",
              "    .colab-df-convert {\n",
              "      background-color: #E8F0FE;\n",
              "      border: none;\n",
              "      border-radius: 50%;\n",
              "      cursor: pointer;\n",
              "      display: none;\n",
              "      fill: #1967D2;\n",
              "      height: 32px;\n",
              "      padding: 0 0 0 0;\n",
              "      width: 32px;\n",
              "    }\n",
              "\n",
              "    .colab-df-convert:hover {\n",
              "      background-color: #E2EBFA;\n",
              "      box-shadow: 0px 1px 2px rgba(60, 64, 67, 0.3), 0px 1px 3px 1px rgba(60, 64, 67, 0.15);\n",
              "      fill: #174EA6;\n",
              "    }\n",
              "\n",
              "    .colab-df-buttons div {\n",
              "      margin-bottom: 4px;\n",
              "    }\n",
              "\n",
              "    [theme=dark] .colab-df-convert {\n",
              "      background-color: #3B4455;\n",
              "      fill: #D2E3FC;\n",
              "    }\n",
              "\n",
              "    [theme=dark] .colab-df-convert:hover {\n",
              "      background-color: #434B5C;\n",
              "      box-shadow: 0px 1px 3px 1px rgba(0, 0, 0, 0.15);\n",
              "      filter: drop-shadow(0px 1px 2px rgba(0, 0, 0, 0.3));\n",
              "      fill: #FFFFFF;\n",
              "    }\n",
              "  </style>\n",
              "\n",
              "    <script>\n",
              "      const buttonEl =\n",
              "        document.querySelector('#df-f55fbebf-fcbc-49e1-a093-af18515e4f89 button.colab-df-convert');\n",
              "      buttonEl.style.display =\n",
              "        google.colab.kernel.accessAllowed ? 'block' : 'none';\n",
              "\n",
              "      async function convertToInteractive(key) {\n",
              "        const element = document.querySelector('#df-f55fbebf-fcbc-49e1-a093-af18515e4f89');\n",
              "        const dataTable =\n",
              "          await google.colab.kernel.invokeFunction('convertToInteractive',\n",
              "                                                    [key], {});\n",
              "        if (!dataTable) return;\n",
              "\n",
              "        const docLinkHtml = 'Like what you see? Visit the ' +\n",
              "          '<a target=\"_blank\" href=https://colab.research.google.com/notebooks/data_table.ipynb>data table notebook</a>'\n",
              "          + ' to learn more about interactive tables.';\n",
              "        element.innerHTML = '';\n",
              "        dataTable['output_type'] = 'display_data';\n",
              "        await google.colab.output.renderOutput(dataTable, element);\n",
              "        const docLink = document.createElement('div');\n",
              "        docLink.innerHTML = docLinkHtml;\n",
              "        element.appendChild(docLink);\n",
              "      }\n",
              "    </script>\n",
              "  </div>\n",
              "\n",
              "\n",
              "<div id=\"df-7632932b-a676-4342-b281-c68b1bd7d024\">\n",
              "  <button class=\"colab-df-quickchart\" onclick=\"quickchart('df-7632932b-a676-4342-b281-c68b1bd7d024')\"\n",
              "            title=\"Suggest charts\"\n",
              "            style=\"display:none;\">\n",
              "\n",
              "<svg xmlns=\"http://www.w3.org/2000/svg\" height=\"24px\"viewBox=\"0 0 24 24\"\n",
              "     width=\"24px\">\n",
              "    <g>\n",
              "        <path d=\"M19 3H5c-1.1 0-2 .9-2 2v14c0 1.1.9 2 2 2h14c1.1 0 2-.9 2-2V5c0-1.1-.9-2-2-2zM9 17H7v-7h2v7zm4 0h-2V7h2v10zm4 0h-2v-4h2v4z\"/>\n",
              "    </g>\n",
              "</svg>\n",
              "  </button>\n",
              "\n",
              "<style>\n",
              "  .colab-df-quickchart {\n",
              "      --bg-color: #E8F0FE;\n",
              "      --fill-color: #1967D2;\n",
              "      --hover-bg-color: #E2EBFA;\n",
              "      --hover-fill-color: #174EA6;\n",
              "      --disabled-fill-color: #AAA;\n",
              "      --disabled-bg-color: #DDD;\n",
              "  }\n",
              "\n",
              "  [theme=dark] .colab-df-quickchart {\n",
              "      --bg-color: #3B4455;\n",
              "      --fill-color: #D2E3FC;\n",
              "      --hover-bg-color: #434B5C;\n",
              "      --hover-fill-color: #FFFFFF;\n",
              "      --disabled-bg-color: #3B4455;\n",
              "      --disabled-fill-color: #666;\n",
              "  }\n",
              "\n",
              "  .colab-df-quickchart {\n",
              "    background-color: var(--bg-color);\n",
              "    border: none;\n",
              "    border-radius: 50%;\n",
              "    cursor: pointer;\n",
              "    display: none;\n",
              "    fill: var(--fill-color);\n",
              "    height: 32px;\n",
              "    padding: 0;\n",
              "    width: 32px;\n",
              "  }\n",
              "\n",
              "  .colab-df-quickchart:hover {\n",
              "    background-color: var(--hover-bg-color);\n",
              "    box-shadow: 0 1px 2px rgba(60, 64, 67, 0.3), 0 1px 3px 1px rgba(60, 64, 67, 0.15);\n",
              "    fill: var(--button-hover-fill-color);\n",
              "  }\n",
              "\n",
              "  .colab-df-quickchart-complete:disabled,\n",
              "  .colab-df-quickchart-complete:disabled:hover {\n",
              "    background-color: var(--disabled-bg-color);\n",
              "    fill: var(--disabled-fill-color);\n",
              "    box-shadow: none;\n",
              "  }\n",
              "\n",
              "  .colab-df-spinner {\n",
              "    border: 2px solid var(--fill-color);\n",
              "    border-color: transparent;\n",
              "    border-bottom-color: var(--fill-color);\n",
              "    animation:\n",
              "      spin 1s steps(1) infinite;\n",
              "  }\n",
              "\n",
              "  @keyframes spin {\n",
              "    0% {\n",
              "      border-color: transparent;\n",
              "      border-bottom-color: var(--fill-color);\n",
              "      border-left-color: var(--fill-color);\n",
              "    }\n",
              "    20% {\n",
              "      border-color: transparent;\n",
              "      border-left-color: var(--fill-color);\n",
              "      border-top-color: var(--fill-color);\n",
              "    }\n",
              "    30% {\n",
              "      border-color: transparent;\n",
              "      border-left-color: var(--fill-color);\n",
              "      border-top-color: var(--fill-color);\n",
              "      border-right-color: var(--fill-color);\n",
              "    }\n",
              "    40% {\n",
              "      border-color: transparent;\n",
              "      border-right-color: var(--fill-color);\n",
              "      border-top-color: var(--fill-color);\n",
              "    }\n",
              "    60% {\n",
              "      border-color: transparent;\n",
              "      border-right-color: var(--fill-color);\n",
              "    }\n",
              "    80% {\n",
              "      border-color: transparent;\n",
              "      border-right-color: var(--fill-color);\n",
              "      border-bottom-color: var(--fill-color);\n",
              "    }\n",
              "    90% {\n",
              "      border-color: transparent;\n",
              "      border-bottom-color: var(--fill-color);\n",
              "    }\n",
              "  }\n",
              "</style>\n",
              "\n",
              "  <script>\n",
              "    async function quickchart(key) {\n",
              "      const quickchartButtonEl =\n",
              "        document.querySelector('#' + key + ' button');\n",
              "      quickchartButtonEl.disabled = true;  // To prevent multiple clicks.\n",
              "      quickchartButtonEl.classList.add('colab-df-spinner');\n",
              "      try {\n",
              "        const charts = await google.colab.kernel.invokeFunction(\n",
              "            'suggestCharts', [key], {});\n",
              "      } catch (error) {\n",
              "        console.error('Error during call to suggestCharts:', error);\n",
              "      }\n",
              "      quickchartButtonEl.classList.remove('colab-df-spinner');\n",
              "      quickchartButtonEl.classList.add('colab-df-quickchart-complete');\n",
              "    }\n",
              "    (() => {\n",
              "      let quickchartButtonEl =\n",
              "        document.querySelector('#df-7632932b-a676-4342-b281-c68b1bd7d024 button');\n",
              "      quickchartButtonEl.style.display =\n",
              "        google.colab.kernel.accessAllowed ? 'block' : 'none';\n",
              "    })();\n",
              "  </script>\n",
              "</div>\n",
              "    </div>\n",
              "  </div>\n"
            ],
            "application/vnd.google.colaboratory.intrinsic+json": {
              "type": "dataframe",
              "variable_name": "d1",
              "summary": "{\n  \"name\": \"d1\",\n  \"rows\": 100,\n  \"fields\": [\n    {\n      \"column\": \"drug_1\",\n      \"properties\": {\n        \"dtype\": \"number\",\n        \"std\": 1.0386964958761464,\n        \"min\": 4.42396183,\n        \"max\": 9.95324783,\n        \"num_unique_values\": 100,\n        \"samples\": [\n          7.70562561,\n          6.59504627,\n          7.85500885\n        ],\n        \"semantic_type\": \"\",\n        \"description\": \"\"\n      }\n    }\n  ]\n}"
            }
          },
          "metadata": {},
          "execution_count": 5
        }
      ]
    },
    {
      "cell_type": "code",
      "source": [
        "d1.mean()"
      ],
      "metadata": {
        "colab": {
          "base_uri": "https://localhost:8080/"
        },
        "id": "OGqlh4pki8A7",
        "outputId": "7916cb4b-1006-4763-da82-70c7d1830722"
      },
      "execution_count": null,
      "outputs": [
        {
          "output_type": "execute_result",
          "data": {
            "text/plain": [
              "drug_1    7.104917\n",
              "dtype: float64"
            ]
          },
          "metadata": {},
          "execution_count": 6
        }
      ]
    },
    {
      "cell_type": "markdown",
      "source": [
        "Now, for Drug 2"
      ],
      "metadata": {
        "id": "To4GsNiTi9-0"
      }
    },
    {
      "cell_type": "code",
      "source": [
        "!wget --no-check-certificate https://drive.google.com/uc?id=1YgAgnzkfiCFz_kSO6BPPLCYAB2K5VwXG -O drug_2_recovery.csv"
      ],
      "metadata": {
        "colab": {
          "base_uri": "https://localhost:8080/"
        },
        "id": "ehyuWWmRl3FJ",
        "outputId": "7e3cdb99-1027-4683-a0ef-48c6367a3959"
      },
      "execution_count": null,
      "outputs": [
        {
          "output_type": "stream",
          "name": "stdout",
          "text": [
            "--2024-04-02 07:50:13--  https://drive.google.com/uc?id=1YgAgnzkfiCFz_kSO6BPPLCYAB2K5VwXG\n",
            "Resolving drive.google.com (drive.google.com)... 173.194.212.100, 173.194.212.138, 173.194.212.102, ...\n",
            "Connecting to drive.google.com (drive.google.com)|173.194.212.100|:443... connected.\n",
            "HTTP request sent, awaiting response... 303 See Other\n",
            "Location: https://drive.usercontent.google.com/download?id=1YgAgnzkfiCFz_kSO6BPPLCYAB2K5VwXG [following]\n",
            "--2024-04-02 07:50:13--  https://drive.usercontent.google.com/download?id=1YgAgnzkfiCFz_kSO6BPPLCYAB2K5VwXG\n",
            "Resolving drive.usercontent.google.com (drive.usercontent.google.com)... 142.251.162.132, 2607:f8b0:400c:c38::84\n",
            "Connecting to drive.usercontent.google.com (drive.usercontent.google.com)|142.251.162.132|:443... connected.\n",
            "HTTP request sent, awaiting response... 200 OK\n",
            "Length: 1328 (1.3K) [application/octet-stream]\n",
            "Saving to: ‘drug_2_recovery.csv’\n",
            "\n",
            "drug_2_recovery.csv 100%[===================>]   1.30K  --.-KB/s    in 0s      \n",
            "\n",
            "2024-04-02 07:50:13 (92.9 MB/s) - ‘drug_2_recovery.csv’ saved [1328/1328]\n",
            "\n"
          ]
        }
      ]
    },
    {
      "cell_type": "code",
      "source": [
        "d2 = pd.read_csv('/content/drug_2_recovery.csv')\n",
        "d2"
      ],
      "metadata": {
        "colab": {
          "base_uri": "https://localhost:8080/",
          "height": 423
        },
        "outputId": "201fe47e-83f3-4db1-e1dd-eb4b397ee70c",
        "id": "7QEwmc59jNL_"
      },
      "execution_count": null,
      "outputs": [
        {
          "output_type": "execute_result",
          "data": {
            "text/plain": [
              "       drug_2\n",
              "0    9.565974\n",
              "1    7.492915\n",
              "2    8.738418\n",
              "3    7.635235\n",
              "4    4.125593\n",
              "..        ...\n",
              "115  7.861993\n",
              "116  8.233510\n",
              "117  5.876257\n",
              "118  7.789454\n",
              "119  8.836125\n",
              "\n",
              "[120 rows x 1 columns]"
            ],
            "text/html": [
              "\n",
              "  <div id=\"df-29f0376b-d797-45f6-82f2-53ac2db96fda\" class=\"colab-df-container\">\n",
              "    <div>\n",
              "<style scoped>\n",
              "    .dataframe tbody tr th:only-of-type {\n",
              "        vertical-align: middle;\n",
              "    }\n",
              "\n",
              "    .dataframe tbody tr th {\n",
              "        vertical-align: top;\n",
              "    }\n",
              "\n",
              "    .dataframe thead th {\n",
              "        text-align: right;\n",
              "    }\n",
              "</style>\n",
              "<table border=\"1\" class=\"dataframe\">\n",
              "  <thead>\n",
              "    <tr style=\"text-align: right;\">\n",
              "      <th></th>\n",
              "      <th>drug_2</th>\n",
              "    </tr>\n",
              "  </thead>\n",
              "  <tbody>\n",
              "    <tr>\n",
              "      <th>0</th>\n",
              "      <td>9.565974</td>\n",
              "    </tr>\n",
              "    <tr>\n",
              "      <th>1</th>\n",
              "      <td>7.492915</td>\n",
              "    </tr>\n",
              "    <tr>\n",
              "      <th>2</th>\n",
              "      <td>8.738418</td>\n",
              "    </tr>\n",
              "    <tr>\n",
              "      <th>3</th>\n",
              "      <td>7.635235</td>\n",
              "    </tr>\n",
              "    <tr>\n",
              "      <th>4</th>\n",
              "      <td>4.125593</td>\n",
              "    </tr>\n",
              "    <tr>\n",
              "      <th>...</th>\n",
              "      <td>...</td>\n",
              "    </tr>\n",
              "    <tr>\n",
              "      <th>115</th>\n",
              "      <td>7.861993</td>\n",
              "    </tr>\n",
              "    <tr>\n",
              "      <th>116</th>\n",
              "      <td>8.233510</td>\n",
              "    </tr>\n",
              "    <tr>\n",
              "      <th>117</th>\n",
              "      <td>5.876257</td>\n",
              "    </tr>\n",
              "    <tr>\n",
              "      <th>118</th>\n",
              "      <td>7.789454</td>\n",
              "    </tr>\n",
              "    <tr>\n",
              "      <th>119</th>\n",
              "      <td>8.836125</td>\n",
              "    </tr>\n",
              "  </tbody>\n",
              "</table>\n",
              "<p>120 rows × 1 columns</p>\n",
              "</div>\n",
              "    <div class=\"colab-df-buttons\">\n",
              "\n",
              "  <div class=\"colab-df-container\">\n",
              "    <button class=\"colab-df-convert\" onclick=\"convertToInteractive('df-29f0376b-d797-45f6-82f2-53ac2db96fda')\"\n",
              "            title=\"Convert this dataframe to an interactive table.\"\n",
              "            style=\"display:none;\">\n",
              "\n",
              "  <svg xmlns=\"http://www.w3.org/2000/svg\" height=\"24px\" viewBox=\"0 -960 960 960\">\n",
              "    <path d=\"M120-120v-720h720v720H120Zm60-500h600v-160H180v160Zm220 220h160v-160H400v160Zm0 220h160v-160H400v160ZM180-400h160v-160H180v160Zm440 0h160v-160H620v160ZM180-180h160v-160H180v160Zm440 0h160v-160H620v160Z\"/>\n",
              "  </svg>\n",
              "    </button>\n",
              "\n",
              "  <style>\n",
              "    .colab-df-container {\n",
              "      display:flex;\n",
              "      gap: 12px;\n",
              "    }\n",
              "\n",
              "    .colab-df-convert {\n",
              "      background-color: #E8F0FE;\n",
              "      border: none;\n",
              "      border-radius: 50%;\n",
              "      cursor: pointer;\n",
              "      display: none;\n",
              "      fill: #1967D2;\n",
              "      height: 32px;\n",
              "      padding: 0 0 0 0;\n",
              "      width: 32px;\n",
              "    }\n",
              "\n",
              "    .colab-df-convert:hover {\n",
              "      background-color: #E2EBFA;\n",
              "      box-shadow: 0px 1px 2px rgba(60, 64, 67, 0.3), 0px 1px 3px 1px rgba(60, 64, 67, 0.15);\n",
              "      fill: #174EA6;\n",
              "    }\n",
              "\n",
              "    .colab-df-buttons div {\n",
              "      margin-bottom: 4px;\n",
              "    }\n",
              "\n",
              "    [theme=dark] .colab-df-convert {\n",
              "      background-color: #3B4455;\n",
              "      fill: #D2E3FC;\n",
              "    }\n",
              "\n",
              "    [theme=dark] .colab-df-convert:hover {\n",
              "      background-color: #434B5C;\n",
              "      box-shadow: 0px 1px 3px 1px rgba(0, 0, 0, 0.15);\n",
              "      filter: drop-shadow(0px 1px 2px rgba(0, 0, 0, 0.3));\n",
              "      fill: #FFFFFF;\n",
              "    }\n",
              "  </style>\n",
              "\n",
              "    <script>\n",
              "      const buttonEl =\n",
              "        document.querySelector('#df-29f0376b-d797-45f6-82f2-53ac2db96fda button.colab-df-convert');\n",
              "      buttonEl.style.display =\n",
              "        google.colab.kernel.accessAllowed ? 'block' : 'none';\n",
              "\n",
              "      async function convertToInteractive(key) {\n",
              "        const element = document.querySelector('#df-29f0376b-d797-45f6-82f2-53ac2db96fda');\n",
              "        const dataTable =\n",
              "          await google.colab.kernel.invokeFunction('convertToInteractive',\n",
              "                                                    [key], {});\n",
              "        if (!dataTable) return;\n",
              "\n",
              "        const docLinkHtml = 'Like what you see? Visit the ' +\n",
              "          '<a target=\"_blank\" href=https://colab.research.google.com/notebooks/data_table.ipynb>data table notebook</a>'\n",
              "          + ' to learn more about interactive tables.';\n",
              "        element.innerHTML = '';\n",
              "        dataTable['output_type'] = 'display_data';\n",
              "        await google.colab.output.renderOutput(dataTable, element);\n",
              "        const docLink = document.createElement('div');\n",
              "        docLink.innerHTML = docLinkHtml;\n",
              "        element.appendChild(docLink);\n",
              "      }\n",
              "    </script>\n",
              "  </div>\n",
              "\n",
              "\n",
              "<div id=\"df-ce6931bb-e07f-4af0-9d66-5c9859391010\">\n",
              "  <button class=\"colab-df-quickchart\" onclick=\"quickchart('df-ce6931bb-e07f-4af0-9d66-5c9859391010')\"\n",
              "            title=\"Suggest charts\"\n",
              "            style=\"display:none;\">\n",
              "\n",
              "<svg xmlns=\"http://www.w3.org/2000/svg\" height=\"24px\"viewBox=\"0 0 24 24\"\n",
              "     width=\"24px\">\n",
              "    <g>\n",
              "        <path d=\"M19 3H5c-1.1 0-2 .9-2 2v14c0 1.1.9 2 2 2h14c1.1 0 2-.9 2-2V5c0-1.1-.9-2-2-2zM9 17H7v-7h2v7zm4 0h-2V7h2v10zm4 0h-2v-4h2v4z\"/>\n",
              "    </g>\n",
              "</svg>\n",
              "  </button>\n",
              "\n",
              "<style>\n",
              "  .colab-df-quickchart {\n",
              "      --bg-color: #E8F0FE;\n",
              "      --fill-color: #1967D2;\n",
              "      --hover-bg-color: #E2EBFA;\n",
              "      --hover-fill-color: #174EA6;\n",
              "      --disabled-fill-color: #AAA;\n",
              "      --disabled-bg-color: #DDD;\n",
              "  }\n",
              "\n",
              "  [theme=dark] .colab-df-quickchart {\n",
              "      --bg-color: #3B4455;\n",
              "      --fill-color: #D2E3FC;\n",
              "      --hover-bg-color: #434B5C;\n",
              "      --hover-fill-color: #FFFFFF;\n",
              "      --disabled-bg-color: #3B4455;\n",
              "      --disabled-fill-color: #666;\n",
              "  }\n",
              "\n",
              "  .colab-df-quickchart {\n",
              "    background-color: var(--bg-color);\n",
              "    border: none;\n",
              "    border-radius: 50%;\n",
              "    cursor: pointer;\n",
              "    display: none;\n",
              "    fill: var(--fill-color);\n",
              "    height: 32px;\n",
              "    padding: 0;\n",
              "    width: 32px;\n",
              "  }\n",
              "\n",
              "  .colab-df-quickchart:hover {\n",
              "    background-color: var(--hover-bg-color);\n",
              "    box-shadow: 0 1px 2px rgba(60, 64, 67, 0.3), 0 1px 3px 1px rgba(60, 64, 67, 0.15);\n",
              "    fill: var(--button-hover-fill-color);\n",
              "  }\n",
              "\n",
              "  .colab-df-quickchart-complete:disabled,\n",
              "  .colab-df-quickchart-complete:disabled:hover {\n",
              "    background-color: var(--disabled-bg-color);\n",
              "    fill: var(--disabled-fill-color);\n",
              "    box-shadow: none;\n",
              "  }\n",
              "\n",
              "  .colab-df-spinner {\n",
              "    border: 2px solid var(--fill-color);\n",
              "    border-color: transparent;\n",
              "    border-bottom-color: var(--fill-color);\n",
              "    animation:\n",
              "      spin 1s steps(1) infinite;\n",
              "  }\n",
              "\n",
              "  @keyframes spin {\n",
              "    0% {\n",
              "      border-color: transparent;\n",
              "      border-bottom-color: var(--fill-color);\n",
              "      border-left-color: var(--fill-color);\n",
              "    }\n",
              "    20% {\n",
              "      border-color: transparent;\n",
              "      border-left-color: var(--fill-color);\n",
              "      border-top-color: var(--fill-color);\n",
              "    }\n",
              "    30% {\n",
              "      border-color: transparent;\n",
              "      border-left-color: var(--fill-color);\n",
              "      border-top-color: var(--fill-color);\n",
              "      border-right-color: var(--fill-color);\n",
              "    }\n",
              "    40% {\n",
              "      border-color: transparent;\n",
              "      border-right-color: var(--fill-color);\n",
              "      border-top-color: var(--fill-color);\n",
              "    }\n",
              "    60% {\n",
              "      border-color: transparent;\n",
              "      border-right-color: var(--fill-color);\n",
              "    }\n",
              "    80% {\n",
              "      border-color: transparent;\n",
              "      border-right-color: var(--fill-color);\n",
              "      border-bottom-color: var(--fill-color);\n",
              "    }\n",
              "    90% {\n",
              "      border-color: transparent;\n",
              "      border-bottom-color: var(--fill-color);\n",
              "    }\n",
              "  }\n",
              "</style>\n",
              "\n",
              "  <script>\n",
              "    async function quickchart(key) {\n",
              "      const quickchartButtonEl =\n",
              "        document.querySelector('#' + key + ' button');\n",
              "      quickchartButtonEl.disabled = true;  // To prevent multiple clicks.\n",
              "      quickchartButtonEl.classList.add('colab-df-spinner');\n",
              "      try {\n",
              "        const charts = await google.colab.kernel.invokeFunction(\n",
              "            'suggestCharts', [key], {});\n",
              "      } catch (error) {\n",
              "        console.error('Error during call to suggestCharts:', error);\n",
              "      }\n",
              "      quickchartButtonEl.classList.remove('colab-df-spinner');\n",
              "      quickchartButtonEl.classList.add('colab-df-quickchart-complete');\n",
              "    }\n",
              "    (() => {\n",
              "      let quickchartButtonEl =\n",
              "        document.querySelector('#df-ce6931bb-e07f-4af0-9d66-5c9859391010 button');\n",
              "      quickchartButtonEl.style.display =\n",
              "        google.colab.kernel.accessAllowed ? 'block' : 'none';\n",
              "    })();\n",
              "  </script>\n",
              "</div>\n",
              "    </div>\n",
              "  </div>\n"
            ],
            "application/vnd.google.colaboratory.intrinsic+json": {
              "type": "dataframe",
              "variable_name": "d2",
              "summary": "{\n  \"name\": \"d2\",\n  \"rows\": 120,\n  \"fields\": [\n    {\n      \"column\": \"drug_2\",\n      \"properties\": {\n        \"dtype\": \"number\",\n        \"std\": 1.5532963278547152,\n        \"min\": 3.75820649,\n        \"max\": 12.50518811,\n        \"num_unique_values\": 120,\n        \"samples\": [\n          10.40999814,\n          6.378799,\n          4.12559277\n        ],\n        \"semantic_type\": \"\",\n        \"description\": \"\"\n      }\n    }\n  ]\n}"
            }
          },
          "metadata": {},
          "execution_count": 8
        }
      ]
    },
    {
      "cell_type": "code",
      "source": [
        "d2.mean()"
      ],
      "metadata": {
        "colab": {
          "base_uri": "https://localhost:8080/"
        },
        "outputId": "84d69372-a611-48d6-d938-93403c8969f4",
        "id": "I0CaOQf5jNL_"
      },
      "execution_count": null,
      "outputs": [
        {
          "output_type": "execute_result",
          "data": {
            "text/plain": [
              "drug_2    8.073423\n",
              "dtype: float64"
            ]
          },
          "metadata": {},
          "execution_count": 9
        }
      ]
    },
    {
      "cell_type": "markdown",
      "source": [
        "This presents a similar problem to what we've seen till now."
      ],
      "metadata": {
        "id": "wvd3KuHPjT3H"
      }
    },
    {
      "cell_type": "markdown",
      "source": [
        "> <font color='purple'>**What will be the Null and Alternate Hypothesis?**</font>\n",
        "\n",
        "We observe that the recovery time of drug 1 seems better (less no of days).\n",
        "\n",
        "So we define a hypothesis as:\n",
        "- $H_0: μ_1 = μ_2$\n",
        "- $H_a: μ_1 < μ_2$"
      ],
      "metadata": {
        "id": "Jnt5_SlLjdN5"
      }
    },
    {
      "cell_type": "markdown",
      "source": [
        "Based on this we can perform Two sample T-test."
      ],
      "metadata": {
        "id": "qd1XhamNkFME"
      }
    },
    {
      "cell_type": "code",
      "source": [
        "from scipy.stats import ttest_ind\n",
        "\n",
        "t_stat, pvalue = ttest_ind(d1, d2, alternative = \"less\")\n",
        "t_stat, pvalue"
      ],
      "metadata": {
        "colab": {
          "base_uri": "https://localhost:8080/"
        },
        "outputId": "ef58e867-2441-411d-f8f2-2c3ccd5b9f00",
        "id": "B3Ck7KEWj_dD"
      },
      "execution_count": null,
      "outputs": [
        {
          "output_type": "execute_result",
          "data": {
            "text/plain": [
              "(array([-5.32112438]), array([1.27713574e-07]))"
            ]
          },
          "metadata": {},
          "execution_count": 12
        }
      ]
    },
    {
      "cell_type": "code",
      "source": [
        "alpha = 0.05 # 95% confidence\n",
        "\n",
        "if pvalue < alpha:\n",
        "  print('Reject H0')\n",
        "  print('First drug has less recovery time.')\n",
        "else:\n",
        "  print ('Fail to Reject H0')\n",
        "  print('Both have same recovery time')"
      ],
      "metadata": {
        "colab": {
          "base_uri": "https://localhost:8080/"
        },
        "outputId": "959b7744-3b21-4d66-9235-c3d26de5075a",
        "id": "3ullkECtj_dE"
      },
      "execution_count": null,
      "outputs": [
        {
          "output_type": "stream",
          "name": "stdout",
          "text": [
            "Reject H0\n",
            "First drug has less recovery time.\n"
          ]
        }
      ]
    },
    {
      "cell_type": "markdown",
      "source": [
        "---\n",
        "\n",
        "Let's take a look at the Aerofit Case Study, that you'd have already seen.\n",
        "\n",
        "### <font color='purple'>Aerofit Case Study</font> [10-12 mins]"
      ],
      "metadata": {
        "id": "kGwtph25n92v"
      }
    },
    {
      "cell_type": "code",
      "source": [
        "!wget --no-check-certificate https://drive.google.com/uc?id=1fSKOoZcIfLTFMvyQ37RvGH168g5nVMDD -O aerofit.csv"
      ],
      "metadata": {
        "colab": {
          "base_uri": "https://localhost:8080/"
        },
        "id": "gnHInjJVmO8g",
        "outputId": "6a8e779d-9713-42e6-be9c-4a77601f5853"
      },
      "execution_count": null,
      "outputs": [
        {
          "output_type": "stream",
          "name": "stdout",
          "text": [
            "--2024-01-17 13:26:06--  https://drive.google.com/uc?id=1fSKOoZcIfLTFMvyQ37RvGH168g5nVMDD\n",
            "Resolving drive.google.com (drive.google.com)... 142.251.167.138, 142.251.167.139, 142.251.167.113, ...\n",
            "Connecting to drive.google.com (drive.google.com)|142.251.167.138|:443... connected.\n",
            "HTTP request sent, awaiting response... 303 See Other\n",
            "Location: https://drive.usercontent.google.com/download?id=1fSKOoZcIfLTFMvyQ37RvGH168g5nVMDD [following]\n",
            "--2024-01-17 13:26:06--  https://drive.usercontent.google.com/download?id=1fSKOoZcIfLTFMvyQ37RvGH168g5nVMDD\n",
            "Resolving drive.usercontent.google.com (drive.usercontent.google.com)... 142.251.167.132, 2607:f8b0:4004:c1d::84\n",
            "Connecting to drive.usercontent.google.com (drive.usercontent.google.com)|142.251.167.132|:443... connected.\n",
            "HTTP request sent, awaiting response... 200 OK\n",
            "Length: 7461 (7.3K) [application/octet-stream]\n",
            "Saving to: ‘aerofit.csv’\n",
            "\n",
            "aerofit.csv         100%[===================>]   7.29K  --.-KB/s    in 0s      \n",
            "\n",
            "2024-01-17 13:26:07 (20.8 MB/s) - ‘aerofit.csv’ saved [7461/7461]\n",
            "\n"
          ]
        }
      ]
    },
    {
      "cell_type": "code",
      "source": [
        "df = pd.read_csv('/content/aerofit.csv')\n",
        "df"
      ],
      "metadata": {
        "colab": {
          "base_uri": "https://localhost:8080/",
          "height": 423
        },
        "id": "fe80Q1NVoS4Z",
        "outputId": "2b5e519c-7766-4725-a1ed-2d6747694c57"
      },
      "execution_count": null,
      "outputs": [
        {
          "output_type": "execute_result",
          "data": {
            "text/plain": [
              "    Product  Age  Gender  Education MaritalStatus  Usage  Fitness  Income  \\\n",
              "0     KP281   18    Male         14        Single      3        4   29562   \n",
              "1     KP281   19    Male         15        Single      2        3   31836   \n",
              "2     KP281   19  Female         14     Partnered      4        3   30699   \n",
              "3     KP281   19    Male         12        Single      3        3   32973   \n",
              "4     KP281   20    Male         13     Partnered      4        2   35247   \n",
              "..      ...  ...     ...        ...           ...    ...      ...     ...   \n",
              "175   KP781   40    Male         21        Single      6        5   83416   \n",
              "176   KP781   42    Male         18        Single      5        4   89641   \n",
              "177   KP781   45    Male         16        Single      5        5   90886   \n",
              "178   KP781   47    Male         18     Partnered      4        5  104581   \n",
              "179   KP781   48    Male         18     Partnered      4        5   95508   \n",
              "\n",
              "     Miles  \n",
              "0      112  \n",
              "1       75  \n",
              "2       66  \n",
              "3       85  \n",
              "4       47  \n",
              "..     ...  \n",
              "175    200  \n",
              "176    200  \n",
              "177    160  \n",
              "178    120  \n",
              "179    180  \n",
              "\n",
              "[180 rows x 9 columns]"
            ],
            "text/html": [
              "\n",
              "  <div id=\"df-92839ef5-18fc-4ec3-9075-695cd66f9320\" class=\"colab-df-container\">\n",
              "    <div>\n",
              "<style scoped>\n",
              "    .dataframe tbody tr th:only-of-type {\n",
              "        vertical-align: middle;\n",
              "    }\n",
              "\n",
              "    .dataframe tbody tr th {\n",
              "        vertical-align: top;\n",
              "    }\n",
              "\n",
              "    .dataframe thead th {\n",
              "        text-align: right;\n",
              "    }\n",
              "</style>\n",
              "<table border=\"1\" class=\"dataframe\">\n",
              "  <thead>\n",
              "    <tr style=\"text-align: right;\">\n",
              "      <th></th>\n",
              "      <th>Product</th>\n",
              "      <th>Age</th>\n",
              "      <th>Gender</th>\n",
              "      <th>Education</th>\n",
              "      <th>MaritalStatus</th>\n",
              "      <th>Usage</th>\n",
              "      <th>Fitness</th>\n",
              "      <th>Income</th>\n",
              "      <th>Miles</th>\n",
              "    </tr>\n",
              "  </thead>\n",
              "  <tbody>\n",
              "    <tr>\n",
              "      <th>0</th>\n",
              "      <td>KP281</td>\n",
              "      <td>18</td>\n",
              "      <td>Male</td>\n",
              "      <td>14</td>\n",
              "      <td>Single</td>\n",
              "      <td>3</td>\n",
              "      <td>4</td>\n",
              "      <td>29562</td>\n",
              "      <td>112</td>\n",
              "    </tr>\n",
              "    <tr>\n",
              "      <th>1</th>\n",
              "      <td>KP281</td>\n",
              "      <td>19</td>\n",
              "      <td>Male</td>\n",
              "      <td>15</td>\n",
              "      <td>Single</td>\n",
              "      <td>2</td>\n",
              "      <td>3</td>\n",
              "      <td>31836</td>\n",
              "      <td>75</td>\n",
              "    </tr>\n",
              "    <tr>\n",
              "      <th>2</th>\n",
              "      <td>KP281</td>\n",
              "      <td>19</td>\n",
              "      <td>Female</td>\n",
              "      <td>14</td>\n",
              "      <td>Partnered</td>\n",
              "      <td>4</td>\n",
              "      <td>3</td>\n",
              "      <td>30699</td>\n",
              "      <td>66</td>\n",
              "    </tr>\n",
              "    <tr>\n",
              "      <th>3</th>\n",
              "      <td>KP281</td>\n",
              "      <td>19</td>\n",
              "      <td>Male</td>\n",
              "      <td>12</td>\n",
              "      <td>Single</td>\n",
              "      <td>3</td>\n",
              "      <td>3</td>\n",
              "      <td>32973</td>\n",
              "      <td>85</td>\n",
              "    </tr>\n",
              "    <tr>\n",
              "      <th>4</th>\n",
              "      <td>KP281</td>\n",
              "      <td>20</td>\n",
              "      <td>Male</td>\n",
              "      <td>13</td>\n",
              "      <td>Partnered</td>\n",
              "      <td>4</td>\n",
              "      <td>2</td>\n",
              "      <td>35247</td>\n",
              "      <td>47</td>\n",
              "    </tr>\n",
              "    <tr>\n",
              "      <th>...</th>\n",
              "      <td>...</td>\n",
              "      <td>...</td>\n",
              "      <td>...</td>\n",
              "      <td>...</td>\n",
              "      <td>...</td>\n",
              "      <td>...</td>\n",
              "      <td>...</td>\n",
              "      <td>...</td>\n",
              "      <td>...</td>\n",
              "    </tr>\n",
              "    <tr>\n",
              "      <th>175</th>\n",
              "      <td>KP781</td>\n",
              "      <td>40</td>\n",
              "      <td>Male</td>\n",
              "      <td>21</td>\n",
              "      <td>Single</td>\n",
              "      <td>6</td>\n",
              "      <td>5</td>\n",
              "      <td>83416</td>\n",
              "      <td>200</td>\n",
              "    </tr>\n",
              "    <tr>\n",
              "      <th>176</th>\n",
              "      <td>KP781</td>\n",
              "      <td>42</td>\n",
              "      <td>Male</td>\n",
              "      <td>18</td>\n",
              "      <td>Single</td>\n",
              "      <td>5</td>\n",
              "      <td>4</td>\n",
              "      <td>89641</td>\n",
              "      <td>200</td>\n",
              "    </tr>\n",
              "    <tr>\n",
              "      <th>177</th>\n",
              "      <td>KP781</td>\n",
              "      <td>45</td>\n",
              "      <td>Male</td>\n",
              "      <td>16</td>\n",
              "      <td>Single</td>\n",
              "      <td>5</td>\n",
              "      <td>5</td>\n",
              "      <td>90886</td>\n",
              "      <td>160</td>\n",
              "    </tr>\n",
              "    <tr>\n",
              "      <th>178</th>\n",
              "      <td>KP781</td>\n",
              "      <td>47</td>\n",
              "      <td>Male</td>\n",
              "      <td>18</td>\n",
              "      <td>Partnered</td>\n",
              "      <td>4</td>\n",
              "      <td>5</td>\n",
              "      <td>104581</td>\n",
              "      <td>120</td>\n",
              "    </tr>\n",
              "    <tr>\n",
              "      <th>179</th>\n",
              "      <td>KP781</td>\n",
              "      <td>48</td>\n",
              "      <td>Male</td>\n",
              "      <td>18</td>\n",
              "      <td>Partnered</td>\n",
              "      <td>4</td>\n",
              "      <td>5</td>\n",
              "      <td>95508</td>\n",
              "      <td>180</td>\n",
              "    </tr>\n",
              "  </tbody>\n",
              "</table>\n",
              "<p>180 rows × 9 columns</p>\n",
              "</div>\n",
              "    <div class=\"colab-df-buttons\">\n",
              "\n",
              "  <div class=\"colab-df-container\">\n",
              "    <button class=\"colab-df-convert\" onclick=\"convertToInteractive('df-92839ef5-18fc-4ec3-9075-695cd66f9320')\"\n",
              "            title=\"Convert this dataframe to an interactive table.\"\n",
              "            style=\"display:none;\">\n",
              "\n",
              "  <svg xmlns=\"http://www.w3.org/2000/svg\" height=\"24px\" viewBox=\"0 -960 960 960\">\n",
              "    <path d=\"M120-120v-720h720v720H120Zm60-500h600v-160H180v160Zm220 220h160v-160H400v160Zm0 220h160v-160H400v160ZM180-400h160v-160H180v160Zm440 0h160v-160H620v160ZM180-180h160v-160H180v160Zm440 0h160v-160H620v160Z\"/>\n",
              "  </svg>\n",
              "    </button>\n",
              "\n",
              "  <style>\n",
              "    .colab-df-container {\n",
              "      display:flex;\n",
              "      gap: 12px;\n",
              "    }\n",
              "\n",
              "    .colab-df-convert {\n",
              "      background-color: #E8F0FE;\n",
              "      border: none;\n",
              "      border-radius: 50%;\n",
              "      cursor: pointer;\n",
              "      display: none;\n",
              "      fill: #1967D2;\n",
              "      height: 32px;\n",
              "      padding: 0 0 0 0;\n",
              "      width: 32px;\n",
              "    }\n",
              "\n",
              "    .colab-df-convert:hover {\n",
              "      background-color: #E2EBFA;\n",
              "      box-shadow: 0px 1px 2px rgba(60, 64, 67, 0.3), 0px 1px 3px 1px rgba(60, 64, 67, 0.15);\n",
              "      fill: #174EA6;\n",
              "    }\n",
              "\n",
              "    .colab-df-buttons div {\n",
              "      margin-bottom: 4px;\n",
              "    }\n",
              "\n",
              "    [theme=dark] .colab-df-convert {\n",
              "      background-color: #3B4455;\n",
              "      fill: #D2E3FC;\n",
              "    }\n",
              "\n",
              "    [theme=dark] .colab-df-convert:hover {\n",
              "      background-color: #434B5C;\n",
              "      box-shadow: 0px 1px 3px 1px rgba(0, 0, 0, 0.15);\n",
              "      filter: drop-shadow(0px 1px 2px rgba(0, 0, 0, 0.3));\n",
              "      fill: #FFFFFF;\n",
              "    }\n",
              "  </style>\n",
              "\n",
              "    <script>\n",
              "      const buttonEl =\n",
              "        document.querySelector('#df-92839ef5-18fc-4ec3-9075-695cd66f9320 button.colab-df-convert');\n",
              "      buttonEl.style.display =\n",
              "        google.colab.kernel.accessAllowed ? 'block' : 'none';\n",
              "\n",
              "      async function convertToInteractive(key) {\n",
              "        const element = document.querySelector('#df-92839ef5-18fc-4ec3-9075-695cd66f9320');\n",
              "        const dataTable =\n",
              "          await google.colab.kernel.invokeFunction('convertToInteractive',\n",
              "                                                    [key], {});\n",
              "        if (!dataTable) return;\n",
              "\n",
              "        const docLinkHtml = 'Like what you see? Visit the ' +\n",
              "          '<a target=\"_blank\" href=https://colab.research.google.com/notebooks/data_table.ipynb>data table notebook</a>'\n",
              "          + ' to learn more about interactive tables.';\n",
              "        element.innerHTML = '';\n",
              "        dataTable['output_type'] = 'display_data';\n",
              "        await google.colab.output.renderOutput(dataTable, element);\n",
              "        const docLink = document.createElement('div');\n",
              "        docLink.innerHTML = docLinkHtml;\n",
              "        element.appendChild(docLink);\n",
              "      }\n",
              "    </script>\n",
              "  </div>\n",
              "\n",
              "\n",
              "<div id=\"df-98ffecba-020f-48d9-8881-d6e0c28a2e1e\">\n",
              "  <button class=\"colab-df-quickchart\" onclick=\"quickchart('df-98ffecba-020f-48d9-8881-d6e0c28a2e1e')\"\n",
              "            title=\"Suggest charts\"\n",
              "            style=\"display:none;\">\n",
              "\n",
              "<svg xmlns=\"http://www.w3.org/2000/svg\" height=\"24px\"viewBox=\"0 0 24 24\"\n",
              "     width=\"24px\">\n",
              "    <g>\n",
              "        <path d=\"M19 3H5c-1.1 0-2 .9-2 2v14c0 1.1.9 2 2 2h14c1.1 0 2-.9 2-2V5c0-1.1-.9-2-2-2zM9 17H7v-7h2v7zm4 0h-2V7h2v10zm4 0h-2v-4h2v4z\"/>\n",
              "    </g>\n",
              "</svg>\n",
              "  </button>\n",
              "\n",
              "<style>\n",
              "  .colab-df-quickchart {\n",
              "      --bg-color: #E8F0FE;\n",
              "      --fill-color: #1967D2;\n",
              "      --hover-bg-color: #E2EBFA;\n",
              "      --hover-fill-color: #174EA6;\n",
              "      --disabled-fill-color: #AAA;\n",
              "      --disabled-bg-color: #DDD;\n",
              "  }\n",
              "\n",
              "  [theme=dark] .colab-df-quickchart {\n",
              "      --bg-color: #3B4455;\n",
              "      --fill-color: #D2E3FC;\n",
              "      --hover-bg-color: #434B5C;\n",
              "      --hover-fill-color: #FFFFFF;\n",
              "      --disabled-bg-color: #3B4455;\n",
              "      --disabled-fill-color: #666;\n",
              "  }\n",
              "\n",
              "  .colab-df-quickchart {\n",
              "    background-color: var(--bg-color);\n",
              "    border: none;\n",
              "    border-radius: 50%;\n",
              "    cursor: pointer;\n",
              "    display: none;\n",
              "    fill: var(--fill-color);\n",
              "    height: 32px;\n",
              "    padding: 0;\n",
              "    width: 32px;\n",
              "  }\n",
              "\n",
              "  .colab-df-quickchart:hover {\n",
              "    background-color: var(--hover-bg-color);\n",
              "    box-shadow: 0 1px 2px rgba(60, 64, 67, 0.3), 0 1px 3px 1px rgba(60, 64, 67, 0.15);\n",
              "    fill: var(--button-hover-fill-color);\n",
              "  }\n",
              "\n",
              "  .colab-df-quickchart-complete:disabled,\n",
              "  .colab-df-quickchart-complete:disabled:hover {\n",
              "    background-color: var(--disabled-bg-color);\n",
              "    fill: var(--disabled-fill-color);\n",
              "    box-shadow: none;\n",
              "  }\n",
              "\n",
              "  .colab-df-spinner {\n",
              "    border: 2px solid var(--fill-color);\n",
              "    border-color: transparent;\n",
              "    border-bottom-color: var(--fill-color);\n",
              "    animation:\n",
              "      spin 1s steps(1) infinite;\n",
              "  }\n",
              "\n",
              "  @keyframes spin {\n",
              "    0% {\n",
              "      border-color: transparent;\n",
              "      border-bottom-color: var(--fill-color);\n",
              "      border-left-color: var(--fill-color);\n",
              "    }\n",
              "    20% {\n",
              "      border-color: transparent;\n",
              "      border-left-color: var(--fill-color);\n",
              "      border-top-color: var(--fill-color);\n",
              "    }\n",
              "    30% {\n",
              "      border-color: transparent;\n",
              "      border-left-color: var(--fill-color);\n",
              "      border-top-color: var(--fill-color);\n",
              "      border-right-color: var(--fill-color);\n",
              "    }\n",
              "    40% {\n",
              "      border-color: transparent;\n",
              "      border-right-color: var(--fill-color);\n",
              "      border-top-color: var(--fill-color);\n",
              "    }\n",
              "    60% {\n",
              "      border-color: transparent;\n",
              "      border-right-color: var(--fill-color);\n",
              "    }\n",
              "    80% {\n",
              "      border-color: transparent;\n",
              "      border-right-color: var(--fill-color);\n",
              "      border-bottom-color: var(--fill-color);\n",
              "    }\n",
              "    90% {\n",
              "      border-color: transparent;\n",
              "      border-bottom-color: var(--fill-color);\n",
              "    }\n",
              "  }\n",
              "</style>\n",
              "\n",
              "  <script>\n",
              "    async function quickchart(key) {\n",
              "      const quickchartButtonEl =\n",
              "        document.querySelector('#' + key + ' button');\n",
              "      quickchartButtonEl.disabled = true;  // To prevent multiple clicks.\n",
              "      quickchartButtonEl.classList.add('colab-df-spinner');\n",
              "      try {\n",
              "        const charts = await google.colab.kernel.invokeFunction(\n",
              "            'suggestCharts', [key], {});\n",
              "      } catch (error) {\n",
              "        console.error('Error during call to suggestCharts:', error);\n",
              "      }\n",
              "      quickchartButtonEl.classList.remove('colab-df-spinner');\n",
              "      quickchartButtonEl.classList.add('colab-df-quickchart-complete');\n",
              "    }\n",
              "    (() => {\n",
              "      let quickchartButtonEl =\n",
              "        document.querySelector('#df-98ffecba-020f-48d9-8881-d6e0c28a2e1e button');\n",
              "      quickchartButtonEl.style.display =\n",
              "        google.colab.kernel.accessAllowed ? 'block' : 'none';\n",
              "    })();\n",
              "  </script>\n",
              "</div>\n",
              "    </div>\n",
              "  </div>\n"
            ]
          },
          "metadata": {},
          "execution_count": 17
        }
      ]
    },
    {
      "cell_type": "markdown",
      "source": [
        "We were asked to come up with insights based on this data.\n",
        "\n",
        "Find relations between different variables."
      ],
      "metadata": {
        "id": "SzT5CptvobMi"
      }
    },
    {
      "cell_type": "markdown",
      "source": [
        "> <font color='purple'>**Did you notice?**</font>\n",
        "\n",
        "- In all the examples we've solved while performing the T-test, we've done a **numeric variable vs. a categorical variable** (having **2 categories only**).\n",
        "- For e.g.,:\n",
        " - Runs (num.) for 1st and 2nd innings (cat.)\n",
        " - Runs (num.) for when the match is won/lost (cat.)\n",
        " - Recovery time (num.) of Drug 1 vs Drug 2 (cat.)\n",
        "\n",
        "- T-test can only be used in this situation only, i.e. when analysing between one numerical and one categorical (having 2 categories) features.\n",
        "\n"
      ],
      "metadata": {
        "id": "mkeKdfyiuh0_"
      }
    },
    {
      "cell_type": "markdown",
      "source": [
        "So, in the Aerofit data, we can compare such scenarios using T-test.\n",
        "\n",
        "For e.g.,:\n",
        "- Income vs Gender\n",
        " - To analyze the difference in average salaries of men and women"
      ],
      "metadata": {
        "id": "fjj_kF-Rv2uY"
      }
    },
    {
      "cell_type": "markdown",
      "source": [
        "#### <font color='purple'>Gender vs Income</font>\n",
        "\n",
        "Let's visualize using boxplot"
      ],
      "metadata": {
        "id": "XqijJggiwhrr"
      }
    },
    {
      "cell_type": "code",
      "source": [
        "sns.boxplot(x='Gender', y='Income', data=df)"
      ],
      "metadata": {
        "colab": {
          "base_uri": "https://localhost:8080/",
          "height": 467
        },
        "id": "5B2lb4EgwqKa",
        "outputId": "740ed3db-d9af-430b-d1e2-fea6cf79ed64"
      },
      "execution_count": null,
      "outputs": [
        {
          "output_type": "execute_result",
          "data": {
            "text/plain": [
              "<Axes: xlabel='Gender', ylabel='Income'>"
            ]
          },
          "metadata": {},
          "execution_count": 75
        },
        {
          "output_type": "display_data",
          "data": {
            "text/plain": [
              "<Figure size 640x480 with 1 Axes>"
            ],
            "image/png": "[encoded data removed]"
          },
          "metadata": {}
        }
      ]
    },
    {
      "cell_type": "markdown",
      "source": [
        "From this plot, I am tempted to think that the salaries of men are more than that of women on average.\n",
        "\n",
        "Let's test the same using the T-test.\n",
        "\n",
        "> <font color='purple'>**Null and Alternate hypothesis**</font>\n",
        "\n",
        "If $μ_1$ is average income of men, and $μ_2$ is of women,\n",
        "\n",
        "- $H_0: μ_1 = μ_2$\n",
        "- $H_a: μ_1 > μ_2$"
      ],
      "metadata": {
        "id": "P39ALhdQxDc8"
      }
    },
    {
      "cell_type": "code",
      "source": [
        "income_male = df[df['Gender'] == 'Male']['Income']\n",
        "income_female = df[df['Gender'] == 'Female']['Income']"
      ],
      "metadata": {
        "id": "5eoiAxytxgQF"
      },
      "execution_count": null,
      "outputs": []
    },
    {
      "cell_type": "code",
      "source": [
        "income_male.mean()"
      ],
      "metadata": {
        "colab": {
          "base_uri": "https://localhost:8080/"
        },
        "id": "lqah1_HS55FI",
        "outputId": "c644fcbf-03a7-4bb2-84e0-ffb1e08cec43"
      },
      "execution_count": null,
      "outputs": [
        {
          "output_type": "execute_result",
          "data": {
            "text/plain": [
              "56562.75961538462"
            ]
          },
          "metadata": {},
          "execution_count": 85
        }
      ]
    },
    {
      "cell_type": "code",
      "source": [
        "income_female.mean()"
      ],
      "metadata": {
        "colab": {
          "base_uri": "https://localhost:8080/"
        },
        "id": "9q0bggUY57WP",
        "outputId": "c57035d9-4e41-472b-ef97-68507a615373"
      },
      "execution_count": null,
      "outputs": [
        {
          "output_type": "execute_result",
          "data": {
            "text/plain": [
              "49828.90789473684"
            ]
          },
          "metadata": {},
          "execution_count": 20
        }
      ]
    },
    {
      "cell_type": "markdown",
      "source": [
        "<font color='purple'>Performing T-test</font>"
      ],
      "metadata": {
        "id": "rsHKiGdI6Frw"
      }
    },
    {
      "cell_type": "code",
      "source": [
        "t_stat, pvalue = ttest_ind(income_male, income_female, alternative=\"greater\")\n",
        "pvalue"
      ],
      "metadata": {
        "colab": {
          "base_uri": "https://localhost:8080/"
        },
        "id": "mvbM78oD6G_4",
        "outputId": "2669abda-5cd5-4ef8-d170-2c579446bf94"
      },
      "execution_count": null,
      "outputs": [
        {
          "output_type": "execute_result",
          "data": {
            "text/plain": [
              "0.003263631548607129"
            ]
          },
          "metadata": {},
          "execution_count": 87
        }
      ]
    },
    {
      "cell_type": "code",
      "source": [
        "alpha = 0.05 # 95% confidence\n",
        "\n",
        "if pvalue < alpha:\n",
        "  print('Reject H0')\n",
        "  print('Men earn more than females.')\n",
        "else:\n",
        "  print ('Fail to Reject H0')"
      ],
      "metadata": {
        "colab": {
          "base_uri": "https://localhost:8080/"
        },
        "id": "pqHpoiwP6RaK",
        "outputId": "f78c7269-dbee-41dc-a2cc-e3932be9405e"
      },
      "execution_count": null,
      "outputs": [
        {
          "output_type": "stream",
          "name": "stdout",
          "text": [
            "Reject H0\n",
            "Men earn more than females.\n"
          ]
        }
      ]
    },
    {
      "cell_type": "markdown",
      "source": [
        "So, now you have another tool in your skillset, that you can use to draw more insights into the Aerofit data for instance."
      ],
      "metadata": {
        "id": "OZjuGDDS6fSV"
      }
    },
    {
      "cell_type": "markdown",
      "source": [
        "---\n",
        "\n",
        "<font color='purple'>**Note about T-test:**</font>\n",
        "\n",
        "- If sample size $n > 30$, the sample distribution would yield a better approximation of population parameters (avg and std dev)\n",
        "- Hence, the sample standard deviation will be very close to the value of standard error, i.e. $\\frac{x - μ}{\\frac{s}{\\sqrt{n}}} \\approx \\frac{x - μ}{\\frac{σ}{\\sqrt{n}}}$\n",
        "- i.e. T-test and Z-test become essentially the same.\n",
        "- If the number of samples is low, you go for a T-test\n",
        "- If it is high, you can use either T test or Z test\n",
        "- That's why, scipy does not even have an implementation for Z-test."
      ],
      "metadata": {
        "id": "apT1xlcv8yZV"
      }
    },
    {
      "cell_type": "markdown",
      "source": [
        "---\n"
      ],
      "metadata": {
        "id": "Oyhn_oW56opu"
      }
    },
    {
      "cell_type": "markdown",
      "source": [
        "## <font color='blue'>Paired T-test</font>"
      ],
      "metadata": {
        "id": "v4fJqtQyVROy"
      }
    },
    {
      "cell_type": "markdown",
      "source": [
        "<font color='purple'>**Recap Independent t-test**</font>\n",
        "\n",
        "- In the independent t-test, we compared the means of two separate and independent samples.\n",
        "- In this test, you have two sets of data, each representing a different group.\n",
        "\n",
        "- For example,\n",
        "  - It could be two groups of individuals undergoing different treatments,\n",
        "  - Two employee groups with varying salaries,\n",
        "  - Two groups of students with different IQ scores.\n",
        "  - ...etc\n",
        "\n",
        "- The t-test assesses whether the means of these two groups are significantly different from each other.\n",
        "\n",
        "- The nature of data we deal with here is **independent.**"
      ],
      "metadata": {
        "id": "QnCFqjQVGjPc"
      }
    },
    {
      "cell_type": "markdown",
      "source": [
        "<font color='purple'>**Paired T-test setup:**</font>\n",
        "\n",
        "- A paired t-test is used when you have a situation where two sets of data points are not independent of each other, but rather they're related in pairs.\n",
        "\n",
        "- This typically occurs when you're studying the impact of a treatment, intervention, or change within the same subjects over time or in some paired way.\n",
        "\n",
        "- In your case, you're comparing \"Before\" and \"After\" measurements on an individual basis. For each person, you have two measurements:\n",
        "\n",
        "  - **Person 1: Before and After**\n",
        "  - **Person 2: Before and After**\n",
        "\n",
        "- The paired t-test takes into account the paired nature of the data.\n",
        "\n",
        "- It calculates the mean difference ($\\mu_{after} - \\mu_{before}$) of the paired measurements and then assesses whether it is statistically significant or not.\n",
        "\n",
        "- This helps you determine if there's a significant change between the \"Before\" and \"After\" measurements within each pair."
      ],
      "metadata": {
        "id": "wIPxzPS9GvdR"
      }
    },
    {
      "cell_type": "markdown",
      "source": [
        "In contrast to the **Independent T-test** (one and two sample), that we saw, this is known as **Dependent / Paired T-test**"
      ],
      "metadata": {
        "id": "evrlsfw1MaxR"
      }
    },
    {
      "cell_type": "markdown",
      "source": [
        "Let's solve an example"
      ],
      "metadata": {
        "id": "0NO5x_ssDQny"
      }
    },
    {
      "cell_type": "markdown",
      "source": [
        "<font color='purple'>Will problem-solving sessions help students?</font>\n",
        "\n",
        "Test 1: Before the session\n",
        "\n",
        "Test 2: After the session"
      ],
      "metadata": {
        "id": "2BqvMsgVHSnZ"
      }
    },
    {
      "cell_type": "code",
      "source": [
        "from scipy.stats import ttest_rel\n",
        "import pandas as pd"
      ],
      "metadata": {
        "id": "JhzBZEgmHwMe"
      },
      "execution_count": null,
      "outputs": []
    },
    {
      "cell_type": "code",
      "source": [
        "!wget --no-check-certificate https://drive.google.com/uc?id=1PZ1cC8nBZEtvnOYjfrg4xyErI-5i_-ae -O problem_solving.csv"
      ],
      "metadata": {
        "colab": {
          "base_uri": "https://localhost:8080/"
        },
        "id": "VfeWKrUhmlLa",
        "outputId": "1f913380-9d0b-4cac-9793-bb0c0b067e2a"
      },
      "execution_count": null,
      "outputs": [
        {
          "output_type": "stream",
          "name": "stdout",
          "text": [
            "--2024-01-17 13:27:49--  https://drive.google.com/uc?id=1PZ1cC8nBZEtvnOYjfrg4xyErI-5i_-ae\n",
            "Resolving drive.google.com (drive.google.com)... 172.253.63.100, 172.253.63.102, 172.253.63.138, ...\n",
            "Connecting to drive.google.com (drive.google.com)|172.253.63.100|:443... connected.\n",
            "HTTP request sent, awaiting response... 303 See Other\n",
            "Location: https://drive.usercontent.google.com/download?id=1PZ1cC8nBZEtvnOYjfrg4xyErI-5i_-ae [following]\n",
            "--2024-01-17 13:27:49--  https://drive.usercontent.google.com/download?id=1PZ1cC8nBZEtvnOYjfrg4xyErI-5i_-ae\n",
            "Resolving drive.usercontent.google.com (drive.usercontent.google.com)... 142.251.167.132, 2607:f8b0:4004:c1d::84\n",
            "Connecting to drive.usercontent.google.com (drive.usercontent.google.com)|142.251.167.132|:443... connected.\n",
            "HTTP request sent, awaiting response... 200 OK\n",
            "Length: 1277 (1.2K) [application/octet-stream]\n",
            "Saving to: ‘problem_solving.csv’\n",
            "\n",
            "problem_solving.csv 100%[===================>]   1.25K  --.-KB/s    in 0s      \n",
            "\n",
            "2024-01-17 13:27:50 (19.6 MB/s) - ‘problem_solving.csv’ saved [1277/1277]\n",
            "\n"
          ]
        }
      ]
    },
    {
      "cell_type": "code",
      "source": [
        "Path= '/content/problem_solving.csv'\n",
        "df_ps = pd.read_csv(Path)"
      ],
      "metadata": {
        "id": "oxTLrUlXEYFY"
      },
      "execution_count": null,
      "outputs": []
    },
    {
      "cell_type": "code",
      "source": [
        "len(df_ps)"
      ],
      "metadata": {
        "colab": {
          "base_uri": "https://localhost:8080/"
        },
        "id": "Xmfsf2gYHhpR",
        "outputId": "48f6b198-e2d0-490f-f5ae-bda36a642d9b"
      },
      "execution_count": null,
      "outputs": [
        {
          "output_type": "execute_result",
          "data": {
            "text/plain": [
              "137"
            ]
          },
          "metadata": {},
          "execution_count": 23
        }
      ]
    },
    {
      "cell_type": "code",
      "source": [
        "df_ps.head()"
      ],
      "metadata": {
        "colab": {
          "base_uri": "https://localhost:8080/",
          "height": 206
        },
        "id": "a5ND96niHkKY",
        "outputId": "4d32d55b-65c3-4e03-8311-65e640aee0af"
      },
      "execution_count": null,
      "outputs": [
        {
          "output_type": "execute_result",
          "data": {
            "text/plain": [
              "   id  test_1  test_2\n",
              "0   0      40      38\n",
              "1   1      49      44\n",
              "2   2      65      69\n",
              "3   3      59      63\n",
              "4   4      44      43"
            ],
            "text/html": [
              "\n",
              "  <div id=\"df-41f7774b-7c28-427f-936e-e4f0dfdca394\" class=\"colab-df-container\">\n",
              "    <div>\n",
              "<style scoped>\n",
              "    .dataframe tbody tr th:only-of-type {\n",
              "        vertical-align: middle;\n",
              "    }\n",
              "\n",
              "    .dataframe tbody tr th {\n",
              "        vertical-align: top;\n",
              "    }\n",
              "\n",
              "    .dataframe thead th {\n",
              "        text-align: right;\n",
              "    }\n",
              "</style>\n",
              "<table border=\"1\" class=\"dataframe\">\n",
              "  <thead>\n",
              "    <tr style=\"text-align: right;\">\n",
              "      <th></th>\n",
              "      <th>id</th>\n",
              "      <th>test_1</th>\n",
              "      <th>test_2</th>\n",
              "    </tr>\n",
              "  </thead>\n",
              "  <tbody>\n",
              "    <tr>\n",
              "      <th>0</th>\n",
              "      <td>0</td>\n",
              "      <td>40</td>\n",
              "      <td>38</td>\n",
              "    </tr>\n",
              "    <tr>\n",
              "      <th>1</th>\n",
              "      <td>1</td>\n",
              "      <td>49</td>\n",
              "      <td>44</td>\n",
              "    </tr>\n",
              "    <tr>\n",
              "      <th>2</th>\n",
              "      <td>2</td>\n",
              "      <td>65</td>\n",
              "      <td>69</td>\n",
              "    </tr>\n",
              "    <tr>\n",
              "      <th>3</th>\n",
              "      <td>3</td>\n",
              "      <td>59</td>\n",
              "      <td>63</td>\n",
              "    </tr>\n",
              "    <tr>\n",
              "      <th>4</th>\n",
              "      <td>4</td>\n",
              "      <td>44</td>\n",
              "      <td>43</td>\n",
              "    </tr>\n",
              "  </tbody>\n",
              "</table>\n",
              "</div>\n",
              "    <div class=\"colab-df-buttons\">\n",
              "\n",
              "  <div class=\"colab-df-container\">\n",
              "    <button class=\"colab-df-convert\" onclick=\"convertToInteractive('df-41f7774b-7c28-427f-936e-e4f0dfdca394')\"\n",
              "            title=\"Convert this dataframe to an interactive table.\"\n",
              "            style=\"display:none;\">\n",
              "\n",
              "  <svg xmlns=\"http://www.w3.org/2000/svg\" height=\"24px\" viewBox=\"0 -960 960 960\">\n",
              "    <path d=\"M120-120v-720h720v720H120Zm60-500h600v-160H180v160Zm220 220h160v-160H400v160Zm0 220h160v-160H400v160ZM180-400h160v-160H180v160Zm440 0h160v-160H620v160ZM180-180h160v-160H180v160Zm440 0h160v-160H620v160Z\"/>\n",
              "  </svg>\n",
              "    </button>\n",
              "\n",
              "  <style>\n",
              "    .colab-df-container {\n",
              "      display:flex;\n",
              "      gap: 12px;\n",
              "    }\n",
              "\n",
              "    .colab-df-convert {\n",
              "      background-color: #E8F0FE;\n",
              "      border: none;\n",
              "      border-radius: 50%;\n",
              "      cursor: pointer;\n",
              "      display: none;\n",
              "      fill: #1967D2;\n",
              "      height: 32px;\n",
              "      padding: 0 0 0 0;\n",
              "      width: 32px;\n",
              "    }\n",
              "\n",
              "    .colab-df-convert:hover {\n",
              "      background-color: #E2EBFA;\n",
              "      box-shadow: 0px 1px 2px rgba(60, 64, 67, 0.3), 0px 1px 3px 1px rgba(60, 64, 67, 0.15);\n",
              "      fill: #174EA6;\n",
              "    }\n",
              "\n",
              "    .colab-df-buttons div {\n",
              "      margin-bottom: 4px;\n",
              "    }\n",
              "\n",
              "    [theme=dark] .colab-df-convert {\n",
              "      background-color: #3B4455;\n",
              "      fill: #D2E3FC;\n",
              "    }\n",
              "\n",
              "    [theme=dark] .colab-df-convert:hover {\n",
              "      background-color: #434B5C;\n",
              "      box-shadow: 0px 1px 3px 1px rgba(0, 0, 0, 0.15);\n",
              "      filter: drop-shadow(0px 1px 2px rgba(0, 0, 0, 0.3));\n",
              "      fill: #FFFFFF;\n",
              "    }\n",
              "  </style>\n",
              "\n",
              "    <script>\n",
              "      const buttonEl =\n",
              "        document.querySelector('#df-41f7774b-7c28-427f-936e-e4f0dfdca394 button.colab-df-convert');\n",
              "      buttonEl.style.display =\n",
              "        google.colab.kernel.accessAllowed ? 'block' : 'none';\n",
              "\n",
              "      async function convertToInteractive(key) {\n",
              "        const element = document.querySelector('#df-41f7774b-7c28-427f-936e-e4f0dfdca394');\n",
              "        const dataTable =\n",
              "          await google.colab.kernel.invokeFunction('convertToInteractive',\n",
              "                                                    [key], {});\n",
              "        if (!dataTable) return;\n",
              "\n",
              "        const docLinkHtml = 'Like what you see? Visit the ' +\n",
              "          '<a target=\"_blank\" href=https://colab.research.google.com/notebooks/data_table.ipynb>data table notebook</a>'\n",
              "          + ' to learn more about interactive tables.';\n",
              "        element.innerHTML = '';\n",
              "        dataTable['output_type'] = 'display_data';\n",
              "        await google.colab.output.renderOutput(dataTable, element);\n",
              "        const docLink = document.createElement('div');\n",
              "        docLink.innerHTML = docLinkHtml;\n",
              "        element.appendChild(docLink);\n",
              "      }\n",
              "    </script>\n",
              "  </div>\n",
              "\n",
              "\n",
              "<div id=\"df-c727b6d9-07a7-4db2-9ecd-a3cf56a5f4f7\">\n",
              "  <button class=\"colab-df-quickchart\" onclick=\"quickchart('df-c727b6d9-07a7-4db2-9ecd-a3cf56a5f4f7')\"\n",
              "            title=\"Suggest charts\"\n",
              "            style=\"display:none;\">\n",
              "\n",
              "<svg xmlns=\"http://www.w3.org/2000/svg\" height=\"24px\"viewBox=\"0 0 24 24\"\n",
              "     width=\"24px\">\n",
              "    <g>\n",
              "        <path d=\"M19 3H5c-1.1 0-2 .9-2 2v14c0 1.1.9 2 2 2h14c1.1 0 2-.9 2-2V5c0-1.1-.9-2-2-2zM9 17H7v-7h2v7zm4 0h-2V7h2v10zm4 0h-2v-4h2v4z\"/>\n",
              "    </g>\n",
              "</svg>\n",
              "  </button>\n",
              "\n",
              "<style>\n",
              "  .colab-df-quickchart {\n",
              "      --bg-color: #E8F0FE;\n",
              "      --fill-color: #1967D2;\n",
              "      --hover-bg-color: #E2EBFA;\n",
              "      --hover-fill-color: #174EA6;\n",
              "      --disabled-fill-color: #AAA;\n",
              "      --disabled-bg-color: #DDD;\n",
              "  }\n",
              "\n",
              "  [theme=dark] .colab-df-quickchart {\n",
              "      --bg-color: #3B4455;\n",
              "      --fill-color: #D2E3FC;\n",
              "      --hover-bg-color: #434B5C;\n",
              "      --hover-fill-color: #FFFFFF;\n",
              "      --disabled-bg-color: #3B4455;\n",
              "      --disabled-fill-color: #666;\n",
              "  }\n",
              "\n",
              "  .colab-df-quickchart {\n",
              "    background-color: var(--bg-color);\n",
              "    border: none;\n",
              "    border-radius: 50%;\n",
              "    cursor: pointer;\n",
              "    display: none;\n",
              "    fill: var(--fill-color);\n",
              "    height: 32px;\n",
              "    padding: 0;\n",
              "    width: 32px;\n",
              "  }\n",
              "\n",
              "  .colab-df-quickchart:hover {\n",
              "    background-color: var(--hover-bg-color);\n",
              "    box-shadow: 0 1px 2px rgba(60, 64, 67, 0.3), 0 1px 3px 1px rgba(60, 64, 67, 0.15);\n",
              "    fill: var(--button-hover-fill-color);\n",
              "  }\n",
              "\n",
              "  .colab-df-quickchart-complete:disabled,\n",
              "  .colab-df-quickchart-complete:disabled:hover {\n",
              "    background-color: var(--disabled-bg-color);\n",
              "    fill: var(--disabled-fill-color);\n",
              "    box-shadow: none;\n",
              "  }\n",
              "\n",
              "  .colab-df-spinner {\n",
              "    border: 2px solid var(--fill-color);\n",
              "    border-color: transparent;\n",
              "    border-bottom-color: var(--fill-color);\n",
              "    animation:\n",
              "      spin 1s steps(1) infinite;\n",
              "  }\n",
              "\n",
              "  @keyframes spin {\n",
              "    0% {\n",
              "      border-color: transparent;\n",
              "      border-bottom-color: var(--fill-color);\n",
              "      border-left-color: var(--fill-color);\n",
              "    }\n",
              "    20% {\n",
              "      border-color: transparent;\n",
              "      border-left-color: var(--fill-color);\n",
              "      border-top-color: var(--fill-color);\n",
              "    }\n",
              "    30% {\n",
              "      border-color: transparent;\n",
              "      border-left-color: var(--fill-color);\n",
              "      border-top-color: var(--fill-color);\n",
              "      border-right-color: var(--fill-color);\n",
              "    }\n",
              "    40% {\n",
              "      border-color: transparent;\n",
              "      border-right-color: var(--fill-color);\n",
              "      border-top-color: var(--fill-color);\n",
              "    }\n",
              "    60% {\n",
              "      border-color: transparent;\n",
              "      border-right-color: var(--fill-color);\n",
              "    }\n",
              "    80% {\n",
              "      border-color: transparent;\n",
              "      border-right-color: var(--fill-color);\n",
              "      border-bottom-color: var(--fill-color);\n",
              "    }\n",
              "    90% {\n",
              "      border-color: transparent;\n",
              "      border-bottom-color: var(--fill-color);\n",
              "    }\n",
              "  }\n",
              "</style>\n",
              "\n",
              "  <script>\n",
              "    async function quickchart(key) {\n",
              "      const quickchartButtonEl =\n",
              "        document.querySelector('#' + key + ' button');\n",
              "      quickchartButtonEl.disabled = true;  // To prevent multiple clicks.\n",
              "      quickchartButtonEl.classList.add('colab-df-spinner');\n",
              "      try {\n",
              "        const charts = await google.colab.kernel.invokeFunction(\n",
              "            'suggestCharts', [key], {});\n",
              "      } catch (error) {\n",
              "        console.error('Error during call to suggestCharts:', error);\n",
              "      }\n",
              "      quickchartButtonEl.classList.remove('colab-df-spinner');\n",
              "      quickchartButtonEl.classList.add('colab-df-quickchart-complete');\n",
              "    }\n",
              "    (() => {\n",
              "      let quickchartButtonEl =\n",
              "        document.querySelector('#df-c727b6d9-07a7-4db2-9ecd-a3cf56a5f4f7 button');\n",
              "      quickchartButtonEl.style.display =\n",
              "        google.colab.kernel.accessAllowed ? 'block' : 'none';\n",
              "    })();\n",
              "  </script>\n",
              "</div>\n",
              "    </div>\n",
              "  </div>\n"
            ]
          },
          "metadata": {},
          "execution_count": 24
        }
      ]
    },
    {
      "cell_type": "code",
      "source": [
        "df_ps.describe()"
      ],
      "metadata": {
        "colab": {
          "base_uri": "https://localhost:8080/",
          "height": 300
        },
        "id": "vJXmD7e3HmGJ",
        "outputId": "1120df45-5773-4c12-da87-b8219f28bfcc"
      },
      "execution_count": null,
      "outputs": [
        {
          "output_type": "execute_result",
          "data": {
            "text/plain": [
              "               id      test_1      test_2\n",
              "count  137.000000  137.000000  137.000000\n",
              "mean    68.000000   60.489051   62.430657\n",
              "std     39.692569   17.080311   17.516293\n",
              "min      0.000000   30.000000   27.000000\n",
              "25%     34.000000   46.000000   48.000000\n",
              "50%     68.000000   59.000000   62.000000\n",
              "75%    102.000000   75.000000   77.000000\n",
              "max    136.000000   89.000000   96.000000"
            ],
            "text/html": [
              "\n",
              "  <div id=\"df-89ba698c-378a-41ee-97f2-4f6db9002aca\" class=\"colab-df-container\">\n",
              "    <div>\n",
              "<style scoped>\n",
              "    .dataframe tbody tr th:only-of-type {\n",
              "        vertical-align: middle;\n",
              "    }\n",
              "\n",
              "    .dataframe tbody tr th {\n",
              "        vertical-align: top;\n",
              "    }\n",
              "\n",
              "    .dataframe thead th {\n",
              "        text-align: right;\n",
              "    }\n",
              "</style>\n",
              "<table border=\"1\" class=\"dataframe\">\n",
              "  <thead>\n",
              "    <tr style=\"text-align: right;\">\n",
              "      <th></th>\n",
              "      <th>id</th>\n",
              "      <th>test_1</th>\n",
              "      <th>test_2</th>\n",
              "    </tr>\n",
              "  </thead>\n",
              "  <tbody>\n",
              "    <tr>\n",
              "      <th>count</th>\n",
              "      <td>137.000000</td>\n",
              "      <td>137.000000</td>\n",
              "      <td>137.000000</td>\n",
              "    </tr>\n",
              "    <tr>\n",
              "      <th>mean</th>\n",
              "      <td>68.000000</td>\n",
              "      <td>60.489051</td>\n",
              "      <td>62.430657</td>\n",
              "    </tr>\n",
              "    <tr>\n",
              "      <th>std</th>\n",
              "      <td>39.692569</td>\n",
              "      <td>17.080311</td>\n",
              "      <td>17.516293</td>\n",
              "    </tr>\n",
              "    <tr>\n",
              "      <th>min</th>\n",
              "      <td>0.000000</td>\n",
              "      <td>30.000000</td>\n",
              "      <td>27.000000</td>\n",
              "    </tr>\n",
              "    <tr>\n",
              "      <th>25%</th>\n",
              "      <td>34.000000</td>\n",
              "      <td>46.000000</td>\n",
              "      <td>48.000000</td>\n",
              "    </tr>\n",
              "    <tr>\n",
              "      <th>50%</th>\n",
              "      <td>68.000000</td>\n",
              "      <td>59.000000</td>\n",
              "      <td>62.000000</td>\n",
              "    </tr>\n",
              "    <tr>\n",
              "      <th>75%</th>\n",
              "      <td>102.000000</td>\n",
              "      <td>75.000000</td>\n",
              "      <td>77.000000</td>\n",
              "    </tr>\n",
              "    <tr>\n",
              "      <th>max</th>\n",
              "      <td>136.000000</td>\n",
              "      <td>89.000000</td>\n",
              "      <td>96.000000</td>\n",
              "    </tr>\n",
              "  </tbody>\n",
              "</table>\n",
              "</div>\n",
              "    <div class=\"colab-df-buttons\">\n",
              "\n",
              "  <div class=\"colab-df-container\">\n",
              "    <button class=\"colab-df-convert\" onclick=\"convertToInteractive('df-89ba698c-378a-41ee-97f2-4f6db9002aca')\"\n",
              "            title=\"Convert this dataframe to an interactive table.\"\n",
              "            style=\"display:none;\">\n",
              "\n",
              "  <svg xmlns=\"http://www.w3.org/2000/svg\" height=\"24px\" viewBox=\"0 -960 960 960\">\n",
              "    <path d=\"M120-120v-720h720v720H120Zm60-500h600v-160H180v160Zm220 220h160v-160H400v160Zm0 220h160v-160H400v160ZM180-400h160v-160H180v160Zm440 0h160v-160H620v160ZM180-180h160v-160H180v160Zm440 0h160v-160H620v160Z\"/>\n",
              "  </svg>\n",
              "    </button>\n",
              "\n",
              "  <style>\n",
              "    .colab-df-container {\n",
              "      display:flex;\n",
              "      gap: 12px;\n",
              "    }\n",
              "\n",
              "    .colab-df-convert {\n",
              "      background-color: #E8F0FE;\n",
              "      border: none;\n",
              "      border-radius: 50%;\n",
              "      cursor: pointer;\n",
              "      display: none;\n",
              "      fill: #1967D2;\n",
              "      height: 32px;\n",
              "      padding: 0 0 0 0;\n",
              "      width: 32px;\n",
              "    }\n",
              "\n",
              "    .colab-df-convert:hover {\n",
              "      background-color: #E2EBFA;\n",
              "      box-shadow: 0px 1px 2px rgba(60, 64, 67, 0.3), 0px 1px 3px 1px rgba(60, 64, 67, 0.15);\n",
              "      fill: #174EA6;\n",
              "    }\n",
              "\n",
              "    .colab-df-buttons div {\n",
              "      margin-bottom: 4px;\n",
              "    }\n",
              "\n",
              "    [theme=dark] .colab-df-convert {\n",
              "      background-color: #3B4455;\n",
              "      fill: #D2E3FC;\n",
              "    }\n",
              "\n",
              "    [theme=dark] .colab-df-convert:hover {\n",
              "      background-color: #434B5C;\n",
              "      box-shadow: 0px 1px 3px 1px rgba(0, 0, 0, 0.15);\n",
              "      filter: drop-shadow(0px 1px 2px rgba(0, 0, 0, 0.3));\n",
              "      fill: #FFFFFF;\n",
              "    }\n",
              "  </style>\n",
              "\n",
              "    <script>\n",
              "      const buttonEl =\n",
              "        document.querySelector('#df-89ba698c-378a-41ee-97f2-4f6db9002aca button.colab-df-convert');\n",
              "      buttonEl.style.display =\n",
              "        google.colab.kernel.accessAllowed ? 'block' : 'none';\n",
              "\n",
              "      async function convertToInteractive(key) {\n",
              "        const element = document.querySelector('#df-89ba698c-378a-41ee-97f2-4f6db9002aca');\n",
              "        const dataTable =\n",
              "          await google.colab.kernel.invokeFunction('convertToInteractive',\n",
              "                                                    [key], {});\n",
              "        if (!dataTable) return;\n",
              "\n",
              "        const docLinkHtml = 'Like what you see? Visit the ' +\n",
              "          '<a target=\"_blank\" href=https://colab.research.google.com/notebooks/data_table.ipynb>data table notebook</a>'\n",
              "          + ' to learn more about interactive tables.';\n",
              "        element.innerHTML = '';\n",
              "        dataTable['output_type'] = 'display_data';\n",
              "        await google.colab.output.renderOutput(dataTable, element);\n",
              "        const docLink = document.createElement('div');\n",
              "        docLink.innerHTML = docLinkHtml;\n",
              "        element.appendChild(docLink);\n",
              "      }\n",
              "    </script>\n",
              "  </div>\n",
              "\n",
              "\n",
              "<div id=\"df-a079d2a1-6f50-4d22-ab46-d53f8edf687b\">\n",
              "  <button class=\"colab-df-quickchart\" onclick=\"quickchart('df-a079d2a1-6f50-4d22-ab46-d53f8edf687b')\"\n",
              "            title=\"Suggest charts.\"\n",
              "            style=\"display:none;\">\n",
              "\n",
              "<svg xmlns=\"http://www.w3.org/2000/svg\" height=\"24px\"viewBox=\"0 0 24 24\"\n",
              "     width=\"24px\">\n",
              "    <g>\n",
              "        <path d=\"M19 3H5c-1.1 0-2 .9-2 2v14c0 1.1.9 2 2 2h14c1.1 0 2-.9 2-2V5c0-1.1-.9-2-2-2zM9 17H7v-7h2v7zm4 0h-2V7h2v10zm4 0h-2v-4h2v4z\"/>\n",
              "    </g>\n",
              "</svg>\n",
              "  </button>\n",
              "\n",
              "<style>\n",
              "  .colab-df-quickchart {\n",
              "      --bg-color: #E8F0FE;\n",
              "      --fill-color: #1967D2;\n",
              "      --hover-bg-color: #E2EBFA;\n",
              "      --hover-fill-color: #174EA6;\n",
              "      --disabled-fill-color: #AAA;\n",
              "      --disabled-bg-color: #DDD;\n",
              "  }\n",
              "\n",
              "  [theme=dark] .colab-df-quickchart {\n",
              "      --bg-color: #3B4455;\n",
              "      --fill-color: #D2E3FC;\n",
              "      --hover-bg-color: #434B5C;\n",
              "      --hover-fill-color: #FFFFFF;\n",
              "      --disabled-bg-color: #3B4455;\n",
              "      --disabled-fill-color: #666;\n",
              "  }\n",
              "\n",
              "  .colab-df-quickchart {\n",
              "    background-color: var(--bg-color);\n",
              "    border: none;\n",
              "    border-radius: 50%;\n",
              "    cursor: pointer;\n",
              "    display: none;\n",
              "    fill: var(--fill-color);\n",
              "    height: 32px;\n",
              "    padding: 0;\n",
              "    width: 32px;\n",
              "  }\n",
              "\n",
              "  .colab-df-quickchart:hover {\n",
              "    background-color: var(--hover-bg-color);\n",
              "    box-shadow: 0 1px 2px rgba(60, 64, 67, 0.3), 0 1px 3px 1px rgba(60, 64, 67, 0.15);\n",
              "    fill: var(--button-hover-fill-color);\n",
              "  }\n",
              "\n",
              "  .colab-df-quickchart-complete:disabled,\n",
              "  .colab-df-quickchart-complete:disabled:hover {\n",
              "    background-color: var(--disabled-bg-color);\n",
              "    fill: var(--disabled-fill-color);\n",
              "    box-shadow: none;\n",
              "  }\n",
              "\n",
              "  .colab-df-spinner {\n",
              "    border: 2px solid var(--fill-color);\n",
              "    border-color: transparent;\n",
              "    border-bottom-color: var(--fill-color);\n",
              "    animation:\n",
              "      spin 1s steps(1) infinite;\n",
              "  }\n",
              "\n",
              "  @keyframes spin {\n",
              "    0% {\n",
              "      border-color: transparent;\n",
              "      border-bottom-color: var(--fill-color);\n",
              "      border-left-color: var(--fill-color);\n",
              "    }\n",
              "    20% {\n",
              "      border-color: transparent;\n",
              "      border-left-color: var(--fill-color);\n",
              "      border-top-color: var(--fill-color);\n",
              "    }\n",
              "    30% {\n",
              "      border-color: transparent;\n",
              "      border-left-color: var(--fill-color);\n",
              "      border-top-color: var(--fill-color);\n",
              "      border-right-color: var(--fill-color);\n",
              "    }\n",
              "    40% {\n",
              "      border-color: transparent;\n",
              "      border-right-color: var(--fill-color);\n",
              "      border-top-color: var(--fill-color);\n",
              "    }\n",
              "    60% {\n",
              "      border-color: transparent;\n",
              "      border-right-color: var(--fill-color);\n",
              "    }\n",
              "    80% {\n",
              "      border-color: transparent;\n",
              "      border-right-color: var(--fill-color);\n",
              "      border-bottom-color: var(--fill-color);\n",
              "    }\n",
              "    90% {\n",
              "      border-color: transparent;\n",
              "      border-bottom-color: var(--fill-color);\n",
              "    }\n",
              "  }\n",
              "</style>\n",
              "\n",
              "  <script>\n",
              "    async function quickchart(key) {\n",
              "      const quickchartButtonEl =\n",
              "        document.querySelector('#' + key + ' button');\n",
              "      quickchartButtonEl.disabled = true;  // To prevent multiple clicks.\n",
              "      quickchartButtonEl.classList.add('colab-df-spinner');\n",
              "      try {\n",
              "        const charts = await google.colab.kernel.invokeFunction(\n",
              "            'suggestCharts', [key], {});\n",
              "      } catch (error) {\n",
              "        console.error('Error during call to suggestCharts:', error);\n",
              "      }\n",
              "      quickchartButtonEl.classList.remove('colab-df-spinner');\n",
              "      quickchartButtonEl.classList.add('colab-df-quickchart-complete');\n",
              "    }\n",
              "    (() => {\n",
              "      let quickchartButtonEl =\n",
              "        document.querySelector('#df-a079d2a1-6f50-4d22-ab46-d53f8edf687b button');\n",
              "      quickchartButtonEl.style.display =\n",
              "        google.colab.kernel.accessAllowed ? 'block' : 'none';\n",
              "    })();\n",
              "  </script>\n",
              "</div>\n",
              "    </div>\n",
              "  </div>\n"
            ]
          },
          "metadata": {},
          "execution_count": 11
        }
      ]
    },
    {
      "cell_type": "markdown",
      "source": [
        "> <font color='purple'>**Null and Alternate hypothesis**</font>\n",
        "\n",
        "- Null Hypothesis ($H_0$): Problem-solving has no effect on the test scores.\n",
        "  - In other words, the mean test scores before (test_1) and after (test_2) problem-solving are equal.\n",
        "\n",
        "- Alternative Hypothesis ($H_a$): Problem-solving had an effect on the test scores.\n",
        "  - This implies that the mean test scores before and after problem-solving are not equal."
      ],
      "metadata": {
        "id": "NDhVaZ3bD5O8"
      }
    },
    {
      "cell_type": "markdown",
      "source": [
        "### <font color='purple'>Option 1:</font> $H_a$: $\\mu_{before} \\neq \\mu_{after}$"
      ],
      "metadata": {
        "id": "JsVxMM9WEWTS"
      }
    },
    {
      "cell_type": "code",
      "source": [
        "# H0: Problem-solving has no effect\n",
        "# Ha: Problem-solving had an effect\n",
        "\n",
        "statistic, pvalue = ttest_rel(df_ps[\"test_1\"], df_ps[\"test_2\"]) # alternative='two-sided'\n",
        "print(\"Test statistic:\",statistic)\n",
        "print(\"pvalue:\",pvalue)"
      ],
      "metadata": {
        "colab": {
          "base_uri": "https://localhost:8080/"
        },
        "id": "JiryJeOaHoZh",
        "outputId": "b503974d-9dc4-4d4b-f47f-1b482dec3b99"
      },
      "execution_count": null,
      "outputs": [
        {
          "output_type": "stream",
          "name": "stdout",
          "text": [
            "Test statistic: -5.502886353508166\n",
            "pvalue: 1.795840353792313e-07\n"
          ]
        }
      ]
    },
    {
      "cell_type": "code",
      "source": [
        "alpha = 0.05 # 95% confidence\n",
        "\n",
        "if pvalue < alpha:\n",
        "  print('Reject H0')\n",
        "else:\n",
        "  print ('Fail to Reject H0')"
      ],
      "metadata": {
        "colab": {
          "base_uri": "https://localhost:8080/"
        },
        "id": "xDAASZasFFkI",
        "outputId": "abb56007-a9b0-443e-c71a-2b52db74a779"
      },
      "execution_count": null,
      "outputs": [
        {
          "output_type": "stream",
          "name": "stdout",
          "text": [
            "Reject H0\n"
          ]
        }
      ]
    },
    {
      "cell_type": "markdown",
      "source": [
        "### <font color='purple'>Option 2:</font> $H_a$ : $\\mu_{before}<\\mu_{after}$"
      ],
      "metadata": {
        "id": "2fEExevNEinX"
      }
    },
    {
      "cell_type": "code",
      "source": [
        "# H0: Problem solving has no effect\n",
        "# Ha: Problem solving improved the scores\n",
        "\n",
        "statistic, pvalue = ttest_rel(df_ps[\"test_1\"], df_ps[\"test_2\"],alternative=\"less\")\n",
        "print(\"Test statistic:\",statistic)\n",
        "print(\"pvalue:\",pvalue)"
      ],
      "metadata": {
        "colab": {
          "base_uri": "https://localhost:8080/"
        },
        "id": "kiCCOq7VHq57",
        "outputId": "53306037-39f9-4533-c1ad-9bc18743aac7"
      },
      "execution_count": null,
      "outputs": [
        {
          "output_type": "stream",
          "name": "stdout",
          "text": [
            "Test statistic: -5.502886353508166\n",
            "pvalue: 8.979201768961566e-08\n"
          ]
        }
      ]
    },
    {
      "cell_type": "code",
      "source": [
        "alpha = 0.05 # 95% confidence\n",
        "\n",
        "if pvalue < alpha:\n",
        "  print('Reject H0')\n",
        "else:\n",
        "  print ('Fail to Reject H0')"
      ],
      "metadata": {
        "colab": {
          "base_uri": "https://localhost:8080/"
        },
        "id": "6hHESUvDFeOd",
        "outputId": "9c05232c-6f95-42fc-9372-fcd2fc965bf9"
      },
      "execution_count": null,
      "outputs": [
        {
          "output_type": "stream",
          "name": "stdout",
          "text": [
            "Reject H0\n"
          ]
        }
      ]
    },
    {
      "cell_type": "markdown",
      "source": [
        "### <font color='purple'>Option 3:</font> $H_a: \\mu_{before} > \\mu_{after}$"
      ],
      "metadata": {
        "id": "W-2Q6troErqC"
      }
    },
    {
      "cell_type": "code",
      "source": [
        "# H0: Problem solving has no effect\n",
        "# Ha: Problem solving deteriorated the scores\n",
        "\n",
        "statistic, pvalue = ttest_rel(df_ps[\"test_1\"], df_ps[\"test_2\"],alternative=\"greater\")\n",
        "print(\"Test statistic:\",statistic)\n",
        "print(\"pvalue:\",pvalue)"
      ],
      "metadata": {
        "colab": {
          "base_uri": "https://localhost:8080/"
        },
        "id": "RzrrVPnDH2DP",
        "outputId": "c37171b9-e2db-4459-cc93-567fd987d9cb"
      },
      "execution_count": null,
      "outputs": [
        {
          "output_type": "stream",
          "name": "stdout",
          "text": [
            "Test statistic: -5.502886353508166\n",
            "pvalue: 0.9999999102079823\n"
          ]
        }
      ]
    },
    {
      "cell_type": "code",
      "source": [
        "alpha = 0.05 # 95% confidence\n",
        "\n",
        "if pvalue < alpha:\n",
        "  print('Reject H0')\n",
        "else:\n",
        "  print ('Fail to Reject H0')"
      ],
      "metadata": {
        "colab": {
          "base_uri": "https://localhost:8080/"
        },
        "id": "idPLWGLNFgge",
        "outputId": "4f32ea6c-0061-4d80-9e63-3113529fad2c"
      },
      "execution_count": null,
      "outputs": [
        {
          "output_type": "stream",
          "name": "stdout",
          "text": [
            "Fail to Reject H0\n"
          ]
        }
      ]
    },
    {
      "cell_type": "markdown",
      "source": [
        "---\n",
        "\n"
      ],
      "metadata": {
        "id": "PBS5i1ueVZC5"
      }
    },
    {
      "cell_type": "markdown",
      "source": [
        "# Quiz-3 [3 mins]\n",
        "\n",
        "```\n",
        "Which type of t-test is used to compare the means of two independent groups?\n",
        "```\n",
        "\n",
        "- [ ] One-sample t-test\n",
        "- [ ] Paired t-test\n",
        "- [x] Independent samples t-test\n"
      ],
      "metadata": {
        "id": "RO6k2gYcEGSE"
      }
    },
    {
      "cell_type": "markdown",
      "source": [
        "# Quiz-4 [3 mins]\n",
        "\n",
        "A pharmaceutical company is testing a new drug designed to lower blood pressure. They conduct a study involving two groups:\n",
        "- Group A receives the new drug,\n",
        "- While Group B receives a placebo treatment.\n",
        "\n",
        "The blood pressure drop in both these groups, after treatment is recorded as:\n",
        "```\n",
        "group_a = [8, 7, 6, 5, 6]\n",
        "group_b = [6, 5, 5, 4, 3]\n",
        "```\n",
        "\n",
        "The company wants to determine if there is a significant difference in the mean blood pressure reduction between the two groups after one month of treatment.\n",
        "\n",
        "Which of the following Python code snippets correctly performs a two-sample t-test at a significance level of 0.05?\n",
        "\n",
        "### Options\n",
        "\n",
        "a) `t_stat, p_value = stats.ttest_ind(group_a, group_b)`\n",
        "\n",
        "b) `t_stat, p_value = stats.ttest_rel(group_a, group_b)`\n",
        "\n",
        "c) `t_stat, p_value = stats.ttest_ind(group_a, group_b, alternative = \"greater\")`\n",
        "\n",
        "d) `t_stat, p_value = stats.ttest_1samp(group_a - group_b, 0)`\n",
        "\n",
        "<br>\n",
        "\n",
        "**Ans:** a\n"
      ],
      "metadata": {
        "id": "2LYUoc2RipuA"
      }
    },
    {
      "cell_type": "markdown",
      "source": [
        "## <font color='blue'>Conclusion and Q&A</font>\n",
        "\n",
        "Hope, Now you have a better understanding of:\n",
        "\n",
        "1. T-Test using 1 sample\n",
        "2. T-Test using 2 samples\n",
        "3. Paired T-Test\n"
      ],
      "metadata": {
        "id": "tRQGKE2QGDsA"
      }
    },
    {
      "cell_type": "markdown",
      "source": [
        "![](https://d2beiqkhq929f0.cloudfront.net/public_assets/assets/000/056/739/original/20.png?1699797322)"
      ],
      "metadata": {
        "id": "Yd183gPY9P89"
      }
    },
    {
      "cell_type": "code",
      "source": [
        "female_scores=[25,30,45,49,47,35,32,42]\n",
        "\n",
        "male_scores=[45,47,25,22,29,32,27,28,40,49,50,33]\n",
        "from scipy.stats import ttest_ind\n",
        "# 𝜇(female scores)>𝜇(male scores)\n",
        "ttest_statistic, p = ttest_ind(female_scores, male_scores, alternative='greater')\n",
        "p # ⍺=0.02"
      ],
      "metadata": {
        "colab": {
          "base_uri": "https://localhost:8080/"
        },
        "id": "1VDJkqG3_Vu8",
        "outputId": "cc4f7ea0-7f9b-49eb-f8da-df3241e936e4"
      },
      "execution_count": null,
      "outputs": [
        {
          "output_type": "execute_result",
          "data": {
            "text/plain": [
              "0.2847023809445894"
            ]
          },
          "metadata": {},
          "execution_count": 1
        }
      ]
    },
    {
      "cell_type": "code",
      "source": [
        "# 𝜇(male scores)<𝜇(female scores)\n",
        "ttest_statistic, p = ttest_ind(male_scores, female_scores, alternative='less')\n",
        "p # ⍺=0.02"
      ],
      "metadata": {
        "id": "Z9MldqVg_pZM",
        "colab": {
          "base_uri": "https://localhost:8080/"
        },
        "outputId": "dc9aad18-ca3c-4fac-fc31-6bc06f1eae18"
      },
      "execution_count": null,
      "outputs": [
        {
          "output_type": "execute_result",
          "data": {
            "text/plain": [
              "0.2847023809445894"
            ]
          },
          "metadata": {},
          "execution_count": 2
        }
      ]
    },
    {
      "cell_type": "code",
      "source": [],
      "metadata": {
        "id": "1n1XZpGl_v1G"
      },
      "execution_count": null,
      "outputs": []
    }
  ]
}